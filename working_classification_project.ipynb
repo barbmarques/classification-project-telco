{
 "cells": [
  {
   "cell_type": "markdown",
   "metadata": {},
   "source": [
    "**Project Summary:**\n",
    "\n",
    "Telco customers are leaving for newer companies. Especially phone customers. Find a driver of the churn. A copy of the report will go to executives. Include enough documentation in your final notebook that someone could work through it without you.\n",
    "\n",
    "**Goals:**\n",
    "- Find drivers for customer churn at Telco\n",
    "- Construct a ML classification model that accurately predicts customer churn. \n",
    "\n",
    "**Process/Pipeline:**  https://trello.com/b/vOXbVcbl\n",
    "\n",
    "\n",
    "\n"
   ]
  },
  {
   "cell_type": "code",
   "execution_count": 1,
   "metadata": {},
   "outputs": [],
   "source": [
    "import pandas as pd\n",
    "import matplotlib.pyplot as plt\n",
    "import seaborn as sns\n",
    "import numpy as np\n",
    "import acquire\n",
    "import explore\n",
    "import prepare\n",
    "import env\n",
    "from acquire import get_telco_data\n",
    "from prepare import train_validate_test_split\n",
    "from scipy import stats\n",
    "\n",
    "from sklearn.model_selection import train_test_split\n",
    "from sklearn.tree import DecisionTreeClassifier\n",
    "from sklearn.tree import export_graphviz\n",
    "from sklearn.neighbors import KNeighborsClassifier\n",
    "from sklearn.ensemble import RandomForestClassifier\n",
    "from sklearn.linear_model import LogisticRegression\n",
    "import logistic_regression_util\n",
    "\n",
    "from sklearn.metrics import classification_report\n",
    "from sklearn.metrics import confusion_matrix\n",
    "\n",
    "\n",
    "import graphviz\n",
    "from graphviz import Graph\n",
    "\n",
    "import warnings \n",
    "warnings.filterwarnings(\"ignore\")"
   ]
  },
  {
   "cell_type": "code",
   "execution_count": 2,
   "metadata": {},
   "outputs": [],
   "source": [
    "#Acquire the data from the telco_churn database on the Codeup data science database server\n",
    "\n",
    "df = get_telco_data()\n"
   ]
  },
  {
   "cell_type": "code",
   "execution_count": 3,
   "metadata": {},
   "outputs": [
    {
     "data": {
      "text/plain": [
       "contract_type_id\n",
       "1    3875\n",
       "3    1695\n",
       "2    1473\n",
       "dtype: int64"
      ]
     },
     "execution_count": 3,
     "metadata": {},
     "output_type": "execute_result"
    }
   ],
   "source": [
    "\n",
    "df.value_counts('contract_type_id')"
   ]
  },
  {
   "cell_type": "code",
   "execution_count": 4,
   "metadata": {},
   "outputs": [
    {
     "data": {
      "text/plain": [
       "<bound method DataFrame.drop_duplicates of       payment_type_id  contract_type_id  internet_service_type_id customer_id  \\\n",
       "0                   2                 1                         1  0003-MKNFE   \n",
       "1                   4                 1                         1  0013-MHZWF   \n",
       "2                   1                 1                         1  0015-UOCOJ   \n",
       "3                   1                 1                         1  0023-HGHWL   \n",
       "4                   3                 1                         1  0032-PGELS   \n",
       "...               ...               ...                       ...         ...   \n",
       "7038                4                 3                         3  9950-MTGYX   \n",
       "7039                2                 3                         3  9953-ZMKSM   \n",
       "7040                4                 3                         3  9964-WBQDJ   \n",
       "7041                3                 3                         3  9972-EWRJS   \n",
       "7042                4                 3                         3  9975-GPKZU   \n",
       "\n",
       "      gender  senior_citizen partner dependents  tenure phone_service  ...  \\\n",
       "0       Male               0      No         No       9           Yes  ...   \n",
       "1     Female               0      No        Yes       9           Yes  ...   \n",
       "2     Female               1      No         No       7           Yes  ...   \n",
       "3       Male               1      No         No       1            No  ...   \n",
       "4     Female               0     Yes        Yes       1            No  ...   \n",
       "...      ...             ...     ...        ...     ...           ...  ...   \n",
       "7038    Male               0     Yes        Yes      28           Yes  ...   \n",
       "7039    Male               0      No         No      63           Yes  ...   \n",
       "7040  Female               0     Yes         No      71           Yes  ...   \n",
       "7041  Female               0     Yes        Yes      67           Yes  ...   \n",
       "7042    Male               0     Yes        Yes      46           Yes  ...   \n",
       "\n",
       "             tech_support         streaming_tv     streaming_movies  \\\n",
       "0                      No                   No                  Yes   \n",
       "1                     Yes                  Yes                  Yes   \n",
       "2                      No                   No                   No   \n",
       "3                      No                   No                   No   \n",
       "4                      No                   No                   No   \n",
       "...                   ...                  ...                  ...   \n",
       "7038  No internet service  No internet service  No internet service   \n",
       "7039  No internet service  No internet service  No internet service   \n",
       "7040  No internet service  No internet service  No internet service   \n",
       "7041  No internet service  No internet service  No internet service   \n",
       "7042  No internet service  No internet service  No internet service   \n",
       "\n",
       "     paperless_billing monthly_charges total_charges churn  \\\n",
       "0                   No           59.90         542.4    No   \n",
       "1                  Yes           69.40        571.45    No   \n",
       "2                  Yes           48.20        340.35    No   \n",
       "3                  Yes           25.10          25.1   Yes   \n",
       "4                   No           30.50          30.5   Yes   \n",
       "...                ...             ...           ...   ...   \n",
       "7038               Yes           20.30        487.95    No   \n",
       "7039                No           25.25        1559.3    No   \n",
       "7040               Yes           24.40        1725.4    No   \n",
       "7041               Yes           19.25        1372.9    No   \n",
       "7042                No           19.75         856.5    No   \n",
       "\n",
       "     internet_service_type   contract_type               payment_type  \n",
       "0                      DSL  Month-to-month               Mailed check  \n",
       "1                      DSL  Month-to-month    Credit card (automatic)  \n",
       "2                      DSL  Month-to-month           Electronic check  \n",
       "3                      DSL  Month-to-month           Electronic check  \n",
       "4                      DSL  Month-to-month  Bank transfer (automatic)  \n",
       "...                    ...             ...                        ...  \n",
       "7038                  None        Two year    Credit card (automatic)  \n",
       "7039                  None        Two year               Mailed check  \n",
       "7040                  None        Two year    Credit card (automatic)  \n",
       "7041                  None        Two year  Bank transfer (automatic)  \n",
       "7042                  None        Two year    Credit card (automatic)  \n",
       "\n",
       "[7043 rows x 24 columns]>"
      ]
     },
     "execution_count": 4,
     "metadata": {},
     "output_type": "execute_result"
    }
   ],
   "source": [
    "df.drop_duplicates"
   ]
  },
  {
   "cell_type": "code",
   "execution_count": 5,
   "metadata": {},
   "outputs": [
    {
     "data": {
      "text/plain": [
       "7043"
      ]
     },
     "execution_count": 5,
     "metadata": {},
     "output_type": "execute_result"
    }
   ],
   "source": [
    "df.customer_id.nunique()"
   ]
  },
  {
   "cell_type": "code",
   "execution_count": 6,
   "metadata": {},
   "outputs": [],
   "source": [
    "# df.info()"
   ]
  },
  {
   "cell_type": "code",
   "execution_count": 7,
   "metadata": {},
   "outputs": [],
   "source": [
    "# df.value_counts('payment_type_id')"
   ]
  },
  {
   "cell_type": "code",
   "execution_count": 8,
   "metadata": {},
   "outputs": [],
   "source": [
    "# df.value_counts('contract_type_id')"
   ]
  },
  {
   "cell_type": "code",
   "execution_count": 9,
   "metadata": {},
   "outputs": [],
   "source": [
    "# df.value_counts('internet_service_type_id')"
   ]
  },
  {
   "cell_type": "code",
   "execution_count": 10,
   "metadata": {},
   "outputs": [],
   "source": [
    "# obj_cols = df.columns[[df[col].dtype == 'O' for col in df.columns]]\n",
    "# for col in obj_cols:\n",
    "#     print(df[col].value_counts())\n",
    "#     print(df[col].value_counts(normalize=True, dropna=False))\n",
    "#     print('----------------------')"
   ]
  },
  {
   "cell_type": "code",
   "execution_count": 11,
   "metadata": {},
   "outputs": [
    {
     "data": {
      "image/png": "[encoded data removed]",
      "text/plain": [
       "<Figure size 144x144 with 1 Axes>"
      ]
     },
     "metadata": {
      "needs_background": "light"
     },
     "output_type": "display_data"
    },
    {
     "name": "stdout",
     "output_type": "stream",
     "text": [
      "                                        payment_type  Count  Percent\n",
      "Electronic check                        Mailed check   2365    33.58\n",
      "Mailed check                 Credit card (automatic)   1612    22.89\n",
      "Bank transfer (automatic)           Electronic check   1544    21.92\n",
      "Credit card (automatic)    Bank transfer (automatic)   1522    21.61\n",
      "_________________________________________________________________\n"
     ]
    },
    {
     "data": {
      "image/png": "[encoded data removed]",
      "text/plain": [
       "<Figure size 144x144 with 1 Axes>"
      ]
     },
     "metadata": {
      "needs_background": "light"
     },
     "output_type": "display_data"
    },
    {
     "name": "stdout",
     "output_type": "stream",
     "text": [
      "                 contract_type  Count  Percent\n",
      "Month-to-month  Month-to-month   3875    55.02\n",
      "Two year              One year   1695    24.07\n",
      "One year              Two year   1473    20.91\n",
      "_________________________________________________________________\n"
     ]
    },
    {
     "data": {
      "image/png": "[encoded data removed]",
      "text/plain": [
       "<Figure size 144x144 with 1 Axes>"
      ]
     },
     "metadata": {
      "needs_background": "light"
     },
     "output_type": "display_data"
    },
    {
     "name": "stdout",
     "output_type": "stream",
     "text": [
      "            internet_service_type  Count  Percent\n",
      "Fiber optic                   DSL   3096    43.96\n",
      "DSL                   Fiber optic   2421    34.37\n",
      "None                         None   1526    21.67\n",
      "_________________________________________________________________\n"
     ]
    },
    {
     "data": {
      "image/png": "[encoded data removed]",
      "text/plain": [
       "<Figure size 144x144 with 1 Axes>"
      ]
     },
     "metadata": {
      "needs_background": "light"
     },
     "output_type": "display_data"
    },
    {
     "name": "stdout",
     "output_type": "stream",
     "text": [
      "    churn  Count  Percent\n",
      "No     No   5174    73.46\n",
      "Yes   Yes   1869    26.54\n",
      "_________________________________________________________________\n"
     ]
    },
    {
     "data": {
      "image/png": "[encoded data removed]",
      "text/plain": [
       "<Figure size 144x144 with 1 Axes>"
      ]
     },
     "metadata": {
      "needs_background": "light"
     },
     "output_type": "display_data"
    },
    {
     "name": "stdout",
     "output_type": "stream",
     "text": [
      "    paperless_billing  Count  Percent\n",
      "Yes                No   4171    59.22\n",
      "No                Yes   2872    40.78\n",
      "_________________________________________________________________\n"
     ]
    },
    {
     "data": {
      "image/png": "[encoded data removed]",
      "text/plain": [
       "<Figure size 144x144 with 1 Axes>"
      ]
     },
     "metadata": {
      "needs_background": "light"
     },
     "output_type": "display_data"
    },
    {
     "name": "stdout",
     "output_type": "stream",
     "text": [
      "                        streaming_movies  Count  Percent\n",
      "No                                   Yes   2785    39.54\n",
      "Yes                                   No   2732    38.79\n",
      "No internet service  No internet service   1526    21.67\n",
      "_________________________________________________________________\n"
     ]
    },
    {
     "data": {
      "image/png": "[encoded data removed]",
      "text/plain": [
       "<Figure size 144x144 with 1 Axes>"
      ]
     },
     "metadata": {
      "needs_background": "light"
     },
     "output_type": "display_data"
    },
    {
     "name": "stdout",
     "output_type": "stream",
     "text": [
      "                            streaming_tv  Count  Percent\n",
      "No                                    No   2810    39.90\n",
      "Yes                                  Yes   2707    38.44\n",
      "No internet service  No internet service   1526    21.67\n",
      "_________________________________________________________________\n"
     ]
    },
    {
     "data": {
      "image/png": "[encoded data removed]",
      "text/plain": [
       "<Figure size 144x144 with 1 Axes>"
      ]
     },
     "metadata": {
      "needs_background": "light"
     },
     "output_type": "display_data"
    },
    {
     "name": "stdout",
     "output_type": "stream",
     "text": [
      "                            tech_support  Count  Percent\n",
      "No                                    No   3473    49.31\n",
      "Yes                                  Yes   2044    29.02\n",
      "No internet service  No internet service   1526    21.67\n",
      "_________________________________________________________________\n"
     ]
    },
    {
     "data": {
      "image/png": "[encoded data removed]",
      "text/plain": [
       "<Figure size 144x144 with 1 Axes>"
      ]
     },
     "metadata": {
      "needs_background": "light"
     },
     "output_type": "display_data"
    },
    {
     "name": "stdout",
     "output_type": "stream",
     "text": [
      "                       device_protection  Count  Percent\n",
      "No                                    No   3095    43.94\n",
      "Yes                                  Yes   2422    34.39\n",
      "No internet service  No internet service   1526    21.67\n",
      "_________________________________________________________________\n"
     ]
    },
    {
     "data": {
      "image/png": "[encoded data removed]",
      "text/plain": [
       "<Figure size 144x144 with 1 Axes>"
      ]
     },
     "metadata": {
      "needs_background": "light"
     },
     "output_type": "display_data"
    },
    {
     "name": "stdout",
     "output_type": "stream",
     "text": [
      "                           online_backup  Count  Percent\n",
      "No                                    No   3088    43.84\n",
      "Yes                                  Yes   2429    34.49\n",
      "No internet service  No internet service   1526    21.67\n",
      "_________________________________________________________________\n"
     ]
    },
    {
     "data": {
      "image/png": "[encoded data removed]",
      "text/plain": [
       "<Figure size 144x144 with 1 Axes>"
      ]
     },
     "metadata": {
      "needs_background": "light"
     },
     "output_type": "display_data"
    },
    {
     "name": "stdout",
     "output_type": "stream",
     "text": [
      "                         online_security  Count  Percent\n",
      "No                                    No   3498    49.67\n",
      "Yes                                  Yes   2019    28.67\n",
      "No internet service  No internet service   1526    21.67\n",
      "_________________________________________________________________\n"
     ]
    },
    {
     "data": {
      "image/png": "[encoded data removed]",
      "text/plain": [
       "<Figure size 144x144 with 1 Axes>"
      ]
     },
     "metadata": {
      "needs_background": "light"
     },
     "output_type": "display_data"
    },
    {
     "name": "stdout",
     "output_type": "stream",
     "text": [
      "                    multiple_lines  Count  Percent\n",
      "No                             Yes   3390    48.13\n",
      "Yes                             No   2971    42.18\n",
      "No phone service  No phone service    682     9.68\n",
      "_________________________________________________________________\n"
     ]
    },
    {
     "data": {
      "image/png": "[encoded data removed]",
      "text/plain": [
       "<Figure size 144x144 with 1 Axes>"
      ]
     },
     "metadata": {
      "needs_background": "light"
     },
     "output_type": "display_data"
    },
    {
     "name": "stdout",
     "output_type": "stream",
     "text": [
      "    phone_service  Count  Percent\n",
      "Yes           Yes   6361    90.32\n",
      "No             No    682     9.68\n",
      "_________________________________________________________________\n"
     ]
    },
    {
     "data": {
      "image/png": "[encoded data removed]",
      "text/plain": [
       "<Figure size 144x144 with 1 Axes>"
      ]
     },
     "metadata": {
      "needs_background": "light"
     },
     "output_type": "display_data"
    },
    {
     "name": "stdout",
     "output_type": "stream",
     "text": [
      "        gender  Count  Percent\n",
      "Male      Male   3555    50.48\n",
      "Female  Female   3488    49.52\n",
      "_________________________________________________________________\n"
     ]
    },
    {
     "data": {
      "image/png": "[encoded data removed]",
      "text/plain": [
       "<Figure size 144x144 with 1 Axes>"
      ]
     },
     "metadata": {
      "needs_background": "light"
     },
     "output_type": "display_data"
    },
    {
     "name": "stdout",
     "output_type": "stream",
     "text": [
      "   senior_citizen  Count  Percent\n",
      "0               0   5901    83.79\n",
      "1               1   1142    16.21\n",
      "_________________________________________________________________\n"
     ]
    },
    {
     "data": {
      "image/png": "[encoded data removed]",
      "text/plain": [
       "<Figure size 144x144 with 1 Axes>"
      ]
     },
     "metadata": {
      "needs_background": "light"
     },
     "output_type": "display_data"
    },
    {
     "name": "stdout",
     "output_type": "stream",
     "text": [
      "    partner  Count  Percent\n",
      "No       No   3641     51.7\n",
      "Yes     Yes   3402     48.3\n",
      "_________________________________________________________________\n"
     ]
    },
    {
     "data": {
      "image/png": "[encoded data removed]",
      "text/plain": [
       "<Figure size 144x144 with 1 Axes>"
      ]
     },
     "metadata": {
      "needs_background": "light"
     },
     "output_type": "display_data"
    },
    {
     "name": "stdout",
     "output_type": "stream",
     "text": [
      "    dependents  Count  Percent\n",
      "No          No   4933    70.04\n",
      "Yes        Yes   2110    29.96\n",
      "_________________________________________________________________\n"
     ]
    },
    {
     "data": {
      "image/png": "[encoded data removed]",
      "text/plain": [
       "<Figure size 576x144 with 2 Axes>"
      ]
     },
     "metadata": {
      "needs_background": "light"
     },
     "output_type": "display_data"
    },
    {
     "name": "stdout",
     "output_type": "stream",
     "text": [
      "count    7043.000000\n",
      "mean       64.761692\n",
      "std        30.090047\n",
      "min        18.250000\n",
      "25%        35.500000\n",
      "50%        70.350000\n",
      "75%        89.850000\n",
      "max       118.750000\n",
      "Name: monthly_charges, dtype: float64\n"
     ]
    },
    {
     "data": {
      "image/png": "[encoded data removed]",
      "text/plain": [
       "<Figure size 576x144 with 2 Axes>"
      ]
     },
     "metadata": {
      "needs_background": "light"
     },
     "output_type": "display_data"
    },
    {
     "name": "stdout",
     "output_type": "stream",
     "text": [
      "count    7043.000000\n",
      "mean       32.371149\n",
      "std        24.559481\n",
      "min         0.000000\n",
      "25%         9.000000\n",
      "50%        29.000000\n",
      "75%        55.000000\n",
      "max        72.000000\n",
      "Name: tenure, dtype: float64\n"
     ]
    }
   ],
   "source": [
    "# Visualizations of individual columns\n",
    "cat_vars = ['payment_type','contract_type','internet_service_type','churn',\n",
    "            'paperless_billing','streaming_movies','streaming_tv','tech_support',\n",
    "            'device_protection','online_backup','online_security','multiple_lines',\n",
    "            'phone_service', 'gender','senior_citizen','partner','dependents']\n",
    "quant_vars = ['monthly_charges','tenure']\n",
    "explore.explore_univariate(df, cat_vars, quant_vars)"
   ]
  },
  {
   "cell_type": "markdown",
   "metadata": {},
   "source": [
    "##  Takeaways:\n",
    "45% of all customers use some sort of automatic payments\n",
    "55% of all customers are on MTM contracts\n",
    "44% of all customers have dsl internet\n",
    "27% of all customers have churned\n",
    "90% of all customers have phone service\n",
    "19% of all customers are senior citizens\n",
    "\n",
    "## Takeaways for Prep: \n",
    "Handle missing values:\n",
    "- total_charges has 11 missing values\n",
    "- these missing values are customers with zero tenure, so can replace with zero\n",
    "\n",
    "Duplicate information (delete these columns): \n",
    "- payment_type, contract_type, internet_service_type \n",
    "\n",
    "Create dummies for:\n",
    "- gender\n",
    "\n",
    "Change data type:\n",
    "- total_charges is object and should be changed to float64\n",
    "\n",
    "Encode (yes/no columns):\n",
    "- churn, paperless_billing\n",
    "    \n",
    "Categorical that are dtype 'object' (need to be encoded):\n",
    "- partner, dependants, \n",
    "- online_security, online_backup, device_protection, tech_support\n",
    "\n",
    "'Merge' columns: \n",
    "- phone_service will include multi-line serve\n",
    "- Streaming - will be encoded for streaming tvs and streaming movies\n"
   ]
  },
  {
   "cell_type": "code",
   "execution_count": 12,
   "metadata": {},
   "outputs": [
    {
     "data": {
      "text/html": [
       "<div>\n",
       "<style scoped>\n",
       "    .dataframe tbody tr th:only-of-type {\n",
       "        vertical-align: middle;\n",
       "    }\n",
       "\n",
       "    .dataframe tbody tr th {\n",
       "        vertical-align: top;\n",
       "    }\n",
       "\n",
       "    .dataframe thead th {\n",
       "        text-align: right;\n",
       "    }\n",
       "</style>\n",
       "<table border=\"1\" class=\"dataframe\">\n",
       "  <thead>\n",
       "    <tr style=\"text-align: right;\">\n",
       "      <th></th>\n",
       "      <th>customer_id</th>\n",
       "      <th>senior_citizen</th>\n",
       "      <th>tenure_months</th>\n",
       "      <th>paperless_billing</th>\n",
       "      <th>monthly_charges</th>\n",
       "      <th>total_charges</th>\n",
       "      <th>tenure_years</th>\n",
       "      <th>phone_services</th>\n",
       "      <th>gender_Female</th>\n",
       "      <th>gender_Male</th>\n",
       "      <th>...</th>\n",
       "      <th>e_Check</th>\n",
       "      <th>sends_check</th>\n",
       "      <th>has_auto_pay</th>\n",
       "      <th>dsl</th>\n",
       "      <th>fiber</th>\n",
       "      <th>no_internet</th>\n",
       "      <th>no_tech_support</th>\n",
       "      <th>no_online_security</th>\n",
       "      <th>no_online_backup</th>\n",
       "      <th>no_device_protection</th>\n",
       "    </tr>\n",
       "  </thead>\n",
       "  <tbody>\n",
       "    <tr>\n",
       "      <th>0</th>\n",
       "      <td>0003-MKNFE</td>\n",
       "      <td>0</td>\n",
       "      <td>9</td>\n",
       "      <td>0</td>\n",
       "      <td>59.9</td>\n",
       "      <td>542.40</td>\n",
       "      <td>0.75</td>\n",
       "      <td>2</td>\n",
       "      <td>0</td>\n",
       "      <td>1</td>\n",
       "      <td>...</td>\n",
       "      <td>0</td>\n",
       "      <td>1</td>\n",
       "      <td>0</td>\n",
       "      <td>1</td>\n",
       "      <td>0</td>\n",
       "      <td>0</td>\n",
       "      <td>1</td>\n",
       "      <td>1</td>\n",
       "      <td>1</td>\n",
       "      <td>1</td>\n",
       "    </tr>\n",
       "    <tr>\n",
       "      <th>1</th>\n",
       "      <td>0013-MHZWF</td>\n",
       "      <td>0</td>\n",
       "      <td>9</td>\n",
       "      <td>1</td>\n",
       "      <td>69.4</td>\n",
       "      <td>571.45</td>\n",
       "      <td>0.75</td>\n",
       "      <td>1</td>\n",
       "      <td>1</td>\n",
       "      <td>0</td>\n",
       "      <td>...</td>\n",
       "      <td>0</td>\n",
       "      <td>0</td>\n",
       "      <td>1</td>\n",
       "      <td>1</td>\n",
       "      <td>0</td>\n",
       "      <td>0</td>\n",
       "      <td>0</td>\n",
       "      <td>1</td>\n",
       "      <td>1</td>\n",
       "      <td>1</td>\n",
       "    </tr>\n",
       "    <tr>\n",
       "      <th>2</th>\n",
       "      <td>0015-UOCOJ</td>\n",
       "      <td>1</td>\n",
       "      <td>7</td>\n",
       "      <td>1</td>\n",
       "      <td>48.2</td>\n",
       "      <td>340.35</td>\n",
       "      <td>0.58</td>\n",
       "      <td>1</td>\n",
       "      <td>1</td>\n",
       "      <td>0</td>\n",
       "      <td>...</td>\n",
       "      <td>1</td>\n",
       "      <td>0</td>\n",
       "      <td>0</td>\n",
       "      <td>1</td>\n",
       "      <td>0</td>\n",
       "      <td>0</td>\n",
       "      <td>1</td>\n",
       "      <td>0</td>\n",
       "      <td>1</td>\n",
       "      <td>1</td>\n",
       "    </tr>\n",
       "    <tr>\n",
       "      <th>3</th>\n",
       "      <td>0023-HGHWL</td>\n",
       "      <td>1</td>\n",
       "      <td>1</td>\n",
       "      <td>1</td>\n",
       "      <td>25.1</td>\n",
       "      <td>25.10</td>\n",
       "      <td>0.08</td>\n",
       "      <td>0</td>\n",
       "      <td>0</td>\n",
       "      <td>1</td>\n",
       "      <td>...</td>\n",
       "      <td>1</td>\n",
       "      <td>0</td>\n",
       "      <td>0</td>\n",
       "      <td>1</td>\n",
       "      <td>0</td>\n",
       "      <td>0</td>\n",
       "      <td>1</td>\n",
       "      <td>1</td>\n",
       "      <td>1</td>\n",
       "      <td>1</td>\n",
       "    </tr>\n",
       "    <tr>\n",
       "      <th>4</th>\n",
       "      <td>0032-PGELS</td>\n",
       "      <td>0</td>\n",
       "      <td>1</td>\n",
       "      <td>0</td>\n",
       "      <td>30.5</td>\n",
       "      <td>30.50</td>\n",
       "      <td>0.08</td>\n",
       "      <td>0</td>\n",
       "      <td>1</td>\n",
       "      <td>0</td>\n",
       "      <td>...</td>\n",
       "      <td>0</td>\n",
       "      <td>0</td>\n",
       "      <td>1</td>\n",
       "      <td>1</td>\n",
       "      <td>0</td>\n",
       "      <td>0</td>\n",
       "      <td>1</td>\n",
       "      <td>0</td>\n",
       "      <td>1</td>\n",
       "      <td>1</td>\n",
       "    </tr>\n",
       "  </tbody>\n",
       "</table>\n",
       "<p>5 rows × 29 columns</p>\n",
       "</div>"
      ],
      "text/plain": [
       "  customer_id  senior_citizen  tenure_months  paperless_billing  \\\n",
       "0  0003-MKNFE               0              9                  0   \n",
       "1  0013-MHZWF               0              9                  1   \n",
       "2  0015-UOCOJ               1              7                  1   \n",
       "3  0023-HGHWL               1              1                  1   \n",
       "4  0032-PGELS               0              1                  0   \n",
       "\n",
       "   monthly_charges  total_charges  tenure_years  phone_services  \\\n",
       "0             59.9         542.40          0.75               2   \n",
       "1             69.4         571.45          0.75               1   \n",
       "2             48.2         340.35          0.58               1   \n",
       "3             25.1          25.10          0.08               0   \n",
       "4             30.5          30.50          0.08               0   \n",
       "\n",
       "   gender_Female  gender_Male  ...  e_Check  sends_check  has_auto_pay  dsl  \\\n",
       "0              0            1  ...        0            1             0    1   \n",
       "1              1            0  ...        0            0             1    1   \n",
       "2              1            0  ...        1            0             0    1   \n",
       "3              0            1  ...        1            0             0    1   \n",
       "4              1            0  ...        0            0             1    1   \n",
       "\n",
       "   fiber  no_internet  no_tech_support  no_online_security  no_online_backup  \\\n",
       "0      0            0                1                   1                 1   \n",
       "1      0            0                0                   1                 1   \n",
       "2      0            0                1                   0                 1   \n",
       "3      0            0                1                   1                 1   \n",
       "4      0            0                1                   0                 1   \n",
       "\n",
       "   no_device_protection  \n",
       "0                     1  \n",
       "1                     1  \n",
       "2                     1  \n",
       "3                     1  \n",
       "4                     1  \n",
       "\n",
       "[5 rows x 29 columns]"
      ]
     },
     "execution_count": 12,
     "metadata": {},
     "output_type": "execute_result"
    }
   ],
   "source": [
    "telco_churn = prepare.clean_telco(df)\n",
    "telco_churn.head()\n"
   ]
  },
  {
   "cell_type": "code",
   "execution_count": 13,
   "metadata": {},
   "outputs": [
    {
     "data": {
      "text/plain": [
       "(7043, 29)"
      ]
     },
     "execution_count": 13,
     "metadata": {},
     "output_type": "execute_result"
    }
   ],
   "source": [
    "telco_churn.shape"
   ]
  },
  {
   "cell_type": "code",
   "execution_count": 14,
   "metadata": {},
   "outputs": [
    {
     "name": "stdout",
     "output_type": "stream",
     "text": [
      "<class 'pandas.core.frame.DataFrame'>\n",
      "Int64Index: 7043 entries, 0 to 7042\n",
      "Data columns (total 29 columns):\n",
      " #   Column                Non-Null Count  Dtype  \n",
      "---  ------                --------------  -----  \n",
      " 0   customer_id           7043 non-null   object \n",
      " 1   senior_citizen        7043 non-null   int64  \n",
      " 2   tenure_months         7043 non-null   int64  \n",
      " 3   paperless_billing     7043 non-null   int64  \n",
      " 4   monthly_charges       7043 non-null   float64\n",
      " 5   total_charges         7032 non-null   float64\n",
      " 6   tenure_years          7043 non-null   float64\n",
      " 7   phone_services        7043 non-null   int64  \n",
      " 8   gender_Female         7043 non-null   uint8  \n",
      " 9   gender_Male           7043 non-null   uint8  \n",
      " 10  streamer              7043 non-null   int64  \n",
      " 11  has_churned           7043 non-null   int64  \n",
      " 12  is_single_no_dep      7043 non-null   int64  \n",
      " 13  has_partner_no_dep    7043 non-null   int64  \n",
      " 14  is_single_with_dep    7043 non-null   int64  \n",
      " 15  family                7043 non-null   int64  \n",
      " 16  month_to_month        7043 non-null   int64  \n",
      " 17  one_year              7043 non-null   int64  \n",
      " 18  two_year              7043 non-null   int64  \n",
      " 19  e_Check               7043 non-null   int64  \n",
      " 20  sends_check           7043 non-null   int64  \n",
      " 21  has_auto_pay          7043 non-null   int64  \n",
      " 22  dsl                   7043 non-null   int64  \n",
      " 23  fiber                 7043 non-null   int64  \n",
      " 24  no_internet           7043 non-null   int64  \n",
      " 25  no_tech_support       7043 non-null   int64  \n",
      " 26  no_online_security    7043 non-null   int64  \n",
      " 27  no_online_backup      7043 non-null   int64  \n",
      " 28  no_device_protection  7043 non-null   int64  \n",
      "dtypes: float64(3), int64(23), object(1), uint8(2)\n",
      "memory usage: 1.5+ MB\n"
     ]
    }
   ],
   "source": [
    "telco_churn.info()"
   ]
  },
  {
   "cell_type": "code",
   "execution_count": 15,
   "metadata": {},
   "outputs": [],
   "source": [
    " train, validate, test = train_validate_test_split(telco_churn)"
   ]
  },
  {
   "cell_type": "code",
   "execution_count": 16,
   "metadata": {},
   "outputs": [],
   "source": [
    "# # Visualizations of individual columns of TRAIN data\n",
    "# cat_vars = ['auto_pay', 'e_Check', 'check','month_to_month', 'one_year', 'two_year','dsl','fiber','no_internet','churn',\n",
    "#             'paperless_billing','streamer','no_tech_support', 'no_device_protection','no_online_backup','no_online_security',\n",
    "#             'phone_services', 'gender_Female', 'gender_Male','senior_citizen','single','partner_no_dep','single_with_dep', 'family']\n",
    "# quant_vars = ['monthly_charges','tenure_months','tenure_years']\n",
    "# explore.explore_univariate(train, cat_vars, quant_vars)"
   ]
  },
  {
   "cell_type": "code",
   "execution_count": 17,
   "metadata": {},
   "outputs": [],
   "source": [
    "# cat_vars = ['auto_pay', 'e_Check', 'check','month_to_month', 'one_year', 'two_year','dsl','fiber','no_internet','churn',\n",
    "#             'paperless_billing','streamer','no_tech_support', 'no_device_protection','no_online_backup','no_online_security',\n",
    "#             'phone_services', 'gender_Female', 'gender_Male','senior_citizen','single','partner_no_dep','single_with_dep', 'family']\n",
    "# quant_vars = ['monthly_charges','tenure_months','tenure_years']\n",
    "\n",
    "# explore.explore_bivariate(train, 'churn', cat_vars, quant_vars)"
   ]
  },
  {
   "cell_type": "code",
   "execution_count": 18,
   "metadata": {},
   "outputs": [],
   "source": [
    "# cat_vars = ['auto_pay', 'e_Check', 'check']\n",
    "# quant_vars = ['monthly_charges','tenure_months','tenure_years']\n",
    "\n",
    "# explore.explore_bivariate(train, 'churn', cat_vars, quant_vars)"
   ]
  },
  {
   "cell_type": "markdown",
   "metadata": {},
   "source": [
    "## Takeaways for Explore:\n",
    "\n",
    "Customers not on some type of auto pay churn more\n",
    "    - customers on auto pay churn less\n",
    "\n",
    "Customers on fiber churn more\n",
    "\n",
    "Customers without streaming services churn more\n",
    "\n",
    "Customers without tech support churn more\n",
    "\n",
    "-  I will compare proporations of those who churned and those who didn't with other categorical variables to compare churn rate -- \n",
    "- Use a chi-square test to see if ___________ was more likey to churn than __________\n",
    "- Use a Mann-Whitney test to compare the mean of monthly charges of those who churned and those who didn't\n",
    "\n",
    "\n",
    "\n"
   ]
  },
  {
   "cell_type": "code",
   "execution_count": 19,
   "metadata": {},
   "outputs": [],
   "source": [
    "# target = 'churn'\n",
    "# # cat_vars = ['auto_pay', 'e_Check', 'check','month_to_month', 'one_year', 'two_year','dsl','fiber','no_internet','churn',\n",
    "# #             'paperless_billing','streaming_movies_No', 'streaming_movies_Yes', 'streaming_movies_No internet service','streaming_tv_No', 'streaming_tv_Yes', 'streaming_tv_No internet service','tech_support',\n",
    "# #             'device_protection','online_backup','online_security',\n",
    "# #             'phone_services', 'gender_Female', 'gender_Male','senior_citizen','single','partner_no_dep','single_with_dep', 'family']\n",
    "# cat_vars = ['auto_pay', 'e_Check', 'check']\n",
    "# quant_vars = ['monthly_charges']\n",
    "\n",
    "# explore.explore_multivariate(train, target, cat_vars, quant_vars)"
   ]
  },
  {
   "cell_type": "code",
   "execution_count": 20,
   "metadata": {},
   "outputs": [
    {
     "data": {
      "text/html": [
       "<div>\n",
       "<style scoped>\n",
       "    .dataframe tbody tr th:only-of-type {\n",
       "        vertical-align: middle;\n",
       "    }\n",
       "\n",
       "    .dataframe tbody tr th {\n",
       "        vertical-align: top;\n",
       "    }\n",
       "\n",
       "    .dataframe thead th {\n",
       "        text-align: right;\n",
       "    }\n",
       "</style>\n",
       "<table border=\"1\" class=\"dataframe\">\n",
       "  <thead>\n",
       "    <tr style=\"text-align: right;\">\n",
       "      <th></th>\n",
       "      <th>5710</th>\n",
       "      <th>4465</th>\n",
       "      <th>5017</th>\n",
       "      <th>3521</th>\n",
       "      <th>3828</th>\n",
       "    </tr>\n",
       "  </thead>\n",
       "  <tbody>\n",
       "    <tr>\n",
       "      <th>customer_id</th>\n",
       "      <td>6013-BHCAW</td>\n",
       "      <td>0409-WTMPL</td>\n",
       "      <td>1085-LDWAM</td>\n",
       "      <td>3039-MJSLN</td>\n",
       "      <td>9046-JBFWA</td>\n",
       "    </tr>\n",
       "    <tr>\n",
       "      <th>senior_citizen</th>\n",
       "      <td>0</td>\n",
       "      <td>0</td>\n",
       "      <td>0</td>\n",
       "      <td>0</td>\n",
       "      <td>0</td>\n",
       "    </tr>\n",
       "    <tr>\n",
       "      <th>tenure_months</th>\n",
       "      <td>61</td>\n",
       "      <td>58</td>\n",
       "      <td>69</td>\n",
       "      <td>3</td>\n",
       "      <td>27</td>\n",
       "    </tr>\n",
       "    <tr>\n",
       "      <th>paperless_billing</th>\n",
       "      <td>1</td>\n",
       "      <td>1</td>\n",
       "      <td>1</td>\n",
       "      <td>0</td>\n",
       "      <td>0</td>\n",
       "    </tr>\n",
       "    <tr>\n",
       "      <th>monthly_charges</th>\n",
       "      <td>81</td>\n",
       "      <td>110.65</td>\n",
       "      <td>20.35</td>\n",
       "      <td>20.2</td>\n",
       "      <td>19.15</td>\n",
       "    </tr>\n",
       "    <tr>\n",
       "      <th>total_charges</th>\n",
       "      <td>4976.15</td>\n",
       "      <td>6526.65</td>\n",
       "      <td>1442.65</td>\n",
       "      <td>50.6</td>\n",
       "      <td>537.35</td>\n",
       "    </tr>\n",
       "    <tr>\n",
       "      <th>tenure_years</th>\n",
       "      <td>5.08</td>\n",
       "      <td>4.83</td>\n",
       "      <td>5.75</td>\n",
       "      <td>0.25</td>\n",
       "      <td>2.25</td>\n",
       "    </tr>\n",
       "    <tr>\n",
       "      <th>phone_services</th>\n",
       "      <td>2</td>\n",
       "      <td>2</td>\n",
       "      <td>1</td>\n",
       "      <td>1</td>\n",
       "      <td>1</td>\n",
       "    </tr>\n",
       "    <tr>\n",
       "      <th>gender_Female</th>\n",
       "      <td>0</td>\n",
       "      <td>1</td>\n",
       "      <td>1</td>\n",
       "      <td>0</td>\n",
       "      <td>0</td>\n",
       "    </tr>\n",
       "    <tr>\n",
       "      <th>gender_Male</th>\n",
       "      <td>1</td>\n",
       "      <td>0</td>\n",
       "      <td>0</td>\n",
       "      <td>1</td>\n",
       "      <td>1</td>\n",
       "    </tr>\n",
       "    <tr>\n",
       "      <th>streamer</th>\n",
       "      <td>1</td>\n",
       "      <td>1</td>\n",
       "      <td>0</td>\n",
       "      <td>0</td>\n",
       "      <td>0</td>\n",
       "    </tr>\n",
       "    <tr>\n",
       "      <th>has_churned</th>\n",
       "      <td>0</td>\n",
       "      <td>0</td>\n",
       "      <td>0</td>\n",
       "      <td>0</td>\n",
       "      <td>0</td>\n",
       "    </tr>\n",
       "    <tr>\n",
       "      <th>is_single_no_dep</th>\n",
       "      <td>0</td>\n",
       "      <td>0</td>\n",
       "      <td>0</td>\n",
       "      <td>0</td>\n",
       "      <td>0</td>\n",
       "    </tr>\n",
       "    <tr>\n",
       "      <th>has_partner_no_dep</th>\n",
       "      <td>0</td>\n",
       "      <td>1</td>\n",
       "      <td>0</td>\n",
       "      <td>0</td>\n",
       "      <td>0</td>\n",
       "    </tr>\n",
       "    <tr>\n",
       "      <th>is_single_with_dep</th>\n",
       "      <td>0</td>\n",
       "      <td>0</td>\n",
       "      <td>0</td>\n",
       "      <td>1</td>\n",
       "      <td>1</td>\n",
       "    </tr>\n",
       "    <tr>\n",
       "      <th>family</th>\n",
       "      <td>1</td>\n",
       "      <td>0</td>\n",
       "      <td>1</td>\n",
       "      <td>0</td>\n",
       "      <td>0</td>\n",
       "    </tr>\n",
       "    <tr>\n",
       "      <th>month_to_month</th>\n",
       "      <td>0</td>\n",
       "      <td>0</td>\n",
       "      <td>0</td>\n",
       "      <td>1</td>\n",
       "      <td>1</td>\n",
       "    </tr>\n",
       "    <tr>\n",
       "      <th>one_year</th>\n",
       "      <td>0</td>\n",
       "      <td>1</td>\n",
       "      <td>1</td>\n",
       "      <td>0</td>\n",
       "      <td>0</td>\n",
       "    </tr>\n",
       "    <tr>\n",
       "      <th>two_year</th>\n",
       "      <td>1</td>\n",
       "      <td>0</td>\n",
       "      <td>0</td>\n",
       "      <td>0</td>\n",
       "      <td>0</td>\n",
       "    </tr>\n",
       "    <tr>\n",
       "      <th>e_Check</th>\n",
       "      <td>0</td>\n",
       "      <td>0</td>\n",
       "      <td>0</td>\n",
       "      <td>0</td>\n",
       "      <td>0</td>\n",
       "    </tr>\n",
       "    <tr>\n",
       "      <th>sends_check</th>\n",
       "      <td>0</td>\n",
       "      <td>0</td>\n",
       "      <td>0</td>\n",
       "      <td>0</td>\n",
       "      <td>1</td>\n",
       "    </tr>\n",
       "    <tr>\n",
       "      <th>has_auto_pay</th>\n",
       "      <td>1</td>\n",
       "      <td>1</td>\n",
       "      <td>1</td>\n",
       "      <td>1</td>\n",
       "      <td>0</td>\n",
       "    </tr>\n",
       "    <tr>\n",
       "      <th>dsl</th>\n",
       "      <td>1</td>\n",
       "      <td>0</td>\n",
       "      <td>0</td>\n",
       "      <td>0</td>\n",
       "      <td>0</td>\n",
       "    </tr>\n",
       "    <tr>\n",
       "      <th>fiber</th>\n",
       "      <td>0</td>\n",
       "      <td>1</td>\n",
       "      <td>0</td>\n",
       "      <td>0</td>\n",
       "      <td>0</td>\n",
       "    </tr>\n",
       "    <tr>\n",
       "      <th>no_internet</th>\n",
       "      <td>0</td>\n",
       "      <td>0</td>\n",
       "      <td>1</td>\n",
       "      <td>1</td>\n",
       "      <td>1</td>\n",
       "    </tr>\n",
       "    <tr>\n",
       "      <th>no_tech_support</th>\n",
       "      <td>0</td>\n",
       "      <td>1</td>\n",
       "      <td>0</td>\n",
       "      <td>0</td>\n",
       "      <td>0</td>\n",
       "    </tr>\n",
       "    <tr>\n",
       "      <th>no_online_security</th>\n",
       "      <td>1</td>\n",
       "      <td>0</td>\n",
       "      <td>0</td>\n",
       "      <td>0</td>\n",
       "      <td>0</td>\n",
       "    </tr>\n",
       "    <tr>\n",
       "      <th>no_online_backup</th>\n",
       "      <td>1</td>\n",
       "      <td>0</td>\n",
       "      <td>0</td>\n",
       "      <td>0</td>\n",
       "      <td>0</td>\n",
       "    </tr>\n",
       "    <tr>\n",
       "      <th>no_device_protection</th>\n",
       "      <td>0</td>\n",
       "      <td>0</td>\n",
       "      <td>0</td>\n",
       "      <td>0</td>\n",
       "      <td>0</td>\n",
       "    </tr>\n",
       "  </tbody>\n",
       "</table>\n",
       "</div>"
      ],
      "text/plain": [
       "                            5710        4465        5017        3521  \\\n",
       "customer_id           6013-BHCAW  0409-WTMPL  1085-LDWAM  3039-MJSLN   \n",
       "senior_citizen                 0           0           0           0   \n",
       "tenure_months                 61          58          69           3   \n",
       "paperless_billing              1           1           1           0   \n",
       "monthly_charges               81      110.65       20.35        20.2   \n",
       "total_charges            4976.15     6526.65     1442.65        50.6   \n",
       "tenure_years                5.08        4.83        5.75        0.25   \n",
       "phone_services                 2           2           1           1   \n",
       "gender_Female                  0           1           1           0   \n",
       "gender_Male                    1           0           0           1   \n",
       "streamer                       1           1           0           0   \n",
       "has_churned                    0           0           0           0   \n",
       "is_single_no_dep               0           0           0           0   \n",
       "has_partner_no_dep             0           1           0           0   \n",
       "is_single_with_dep             0           0           0           1   \n",
       "family                         1           0           1           0   \n",
       "month_to_month                 0           0           0           1   \n",
       "one_year                       0           1           1           0   \n",
       "two_year                       1           0           0           0   \n",
       "e_Check                        0           0           0           0   \n",
       "sends_check                    0           0           0           0   \n",
       "has_auto_pay                   1           1           1           1   \n",
       "dsl                            1           0           0           0   \n",
       "fiber                          0           1           0           0   \n",
       "no_internet                    0           0           1           1   \n",
       "no_tech_support                0           1           0           0   \n",
       "no_online_security             1           0           0           0   \n",
       "no_online_backup               1           0           0           0   \n",
       "no_device_protection           0           0           0           0   \n",
       "\n",
       "                            3828  \n",
       "customer_id           9046-JBFWA  \n",
       "senior_citizen                 0  \n",
       "tenure_months                 27  \n",
       "paperless_billing              0  \n",
       "monthly_charges            19.15  \n",
       "total_charges             537.35  \n",
       "tenure_years                2.25  \n",
       "phone_services                 1  \n",
       "gender_Female                  0  \n",
       "gender_Male                    1  \n",
       "streamer                       0  \n",
       "has_churned                    0  \n",
       "is_single_no_dep               0  \n",
       "has_partner_no_dep             0  \n",
       "is_single_with_dep             1  \n",
       "family                         0  \n",
       "month_to_month                 1  \n",
       "one_year                       0  \n",
       "two_year                       0  \n",
       "e_Check                        0  \n",
       "sends_check                    1  \n",
       "has_auto_pay                   0  \n",
       "dsl                            0  \n",
       "fiber                          0  \n",
       "no_internet                    1  \n",
       "no_tech_support                0  \n",
       "no_online_security             0  \n",
       "no_online_backup               0  \n",
       "no_device_protection           0  "
      ]
     },
     "execution_count": 20,
     "metadata": {},
     "output_type": "execute_result"
    }
   ],
   "source": [
    "train.head(5).T"
   ]
  },
  {
   "cell_type": "code",
   "execution_count": 21,
   "metadata": {},
   "outputs": [
    {
     "name": "stdout",
     "output_type": "stream",
     "text": [
      "<class 'pandas.core.frame.DataFrame'>\n",
      "Int64Index: 3943 entries, 5710 to 6867\n",
      "Data columns (total 29 columns):\n",
      " #   Column                Non-Null Count  Dtype  \n",
      "---  ------                --------------  -----  \n",
      " 0   customer_id           3943 non-null   object \n",
      " 1   senior_citizen        3943 non-null   int64  \n",
      " 2   tenure_months         3943 non-null   int64  \n",
      " 3   paperless_billing     3943 non-null   int64  \n",
      " 4   monthly_charges       3943 non-null   float64\n",
      " 5   total_charges         3934 non-null   float64\n",
      " 6   tenure_years          3943 non-null   float64\n",
      " 7   phone_services        3943 non-null   int64  \n",
      " 8   gender_Female         3943 non-null   uint8  \n",
      " 9   gender_Male           3943 non-null   uint8  \n",
      " 10  streamer              3943 non-null   int64  \n",
      " 11  has_churned           3943 non-null   int64  \n",
      " 12  is_single_no_dep      3943 non-null   int64  \n",
      " 13  has_partner_no_dep    3943 non-null   int64  \n",
      " 14  is_single_with_dep    3943 non-null   int64  \n",
      " 15  family                3943 non-null   int64  \n",
      " 16  month_to_month        3943 non-null   int64  \n",
      " 17  one_year              3943 non-null   int64  \n",
      " 18  two_year              3943 non-null   int64  \n",
      " 19  e_Check               3943 non-null   int64  \n",
      " 20  sends_check           3943 non-null   int64  \n",
      " 21  has_auto_pay          3943 non-null   int64  \n",
      " 22  dsl                   3943 non-null   int64  \n",
      " 23  fiber                 3943 non-null   int64  \n",
      " 24  no_internet           3943 non-null   int64  \n",
      " 25  no_tech_support       3943 non-null   int64  \n",
      " 26  no_online_security    3943 non-null   int64  \n",
      " 27  no_online_backup      3943 non-null   int64  \n",
      " 28  no_device_protection  3943 non-null   int64  \n",
      "dtypes: float64(3), int64(23), object(1), uint8(2)\n",
      "memory usage: 870.2+ KB\n"
     ]
    }
   ],
   "source": [
    "train.info()"
   ]
  },
  {
   "cell_type": "markdown",
   "metadata": {},
   "source": [
    "## Hypotheses Testing: \n",
    "    \n",
    "Does whether a customer has tech support affect whether they will churn?\n",
    "H0: Churn is independent of tech support. \n",
    "Alternative: They are dependent    \n"
   ]
  },
  {
   "cell_type": "code",
   "execution_count": null,
   "metadata": {},
   "outputs": [],
   "source": []
  },
  {
   "cell_type": "code",
   "execution_count": 23,
   "metadata": {},
   "outputs": [
    {
     "data": {
      "text/html": [
       "<div>\n",
       "<style scoped>\n",
       "    .dataframe tbody tr th:only-of-type {\n",
       "        vertical-align: middle;\n",
       "    }\n",
       "\n",
       "    .dataframe tbody tr th {\n",
       "        vertical-align: top;\n",
       "    }\n",
       "\n",
       "    .dataframe thead th {\n",
       "        text-align: right;\n",
       "    }\n",
       "</style>\n",
       "<table border=\"1\" class=\"dataframe\">\n",
       "  <thead>\n",
       "    <tr style=\"text-align: right;\">\n",
       "      <th>no_tech_support</th>\n",
       "      <th>0</th>\n",
       "      <th>1</th>\n",
       "    </tr>\n",
       "    <tr>\n",
       "      <th>has_churned</th>\n",
       "      <th></th>\n",
       "      <th></th>\n",
       "    </tr>\n",
       "  </thead>\n",
       "  <tbody>\n",
       "    <tr>\n",
       "      <th>0</th>\n",
       "      <td>3147</td>\n",
       "      <td>2027</td>\n",
       "    </tr>\n",
       "    <tr>\n",
       "      <th>1</th>\n",
       "      <td>423</td>\n",
       "      <td>1446</td>\n",
       "    </tr>\n",
       "  </tbody>\n",
       "</table>\n",
       "</div>"
      ],
      "text/plain": [
       "no_tech_support     0     1\n",
       "has_churned                \n",
       "0                3147  2027\n",
       "1                 423  1446"
      ]
     },
     "execution_count": 23,
     "metadata": {},
     "output_type": "execute_result"
    }
   ],
   "source": [
    "#crosstab for tech support and churn\n",
    "observed = pd.crosstab(telco_churn['has_churned'],telco_churn['no_tech_support'])\n",
    "observed"
   ]
  },
  {
   "cell_type": "code",
   "execution_count": 24,
   "metadata": {},
   "outputs": [
    {
     "name": "stdout",
     "output_type": "stream",
     "text": [
      "p-value is: 6.35740755126359e-176\n",
      "\n",
      "chi2 = 799.6724332372228\n",
      "\n",
      "Since p < .05, we reject the null hypothesis.\n"
     ]
    }
   ],
   "source": [
    "# Set our alpha\n",
    "alpha = .01\n",
    "\n",
    "#run chi2 test\n",
    "chi2, p, degf, expected = stats.chi2_contingency(observed)\n",
    "\n",
    "print(f'p-value is: {p}')\n",
    "print()\n",
    "print(f'chi2 = {chi2}')\n",
    "print()\n",
    "if p < alpha:\n",
    "    print(\"Since p < .05, we reject the null hypothesis.\")\n",
    "else:\n",
    "    print(\"We fail to reject the null\")"
   ]
  },
  {
   "cell_type": "markdown",
   "metadata": {},
   "source": [
    "## Hypothesis Test #2\n",
    "\n",
    "Does having streaming affect whether customers will churn?\n",
    "H0: Churn is independent of streaming services. \n",
    "Alternative: They are dependent.\n"
   ]
  },
  {
   "cell_type": "code",
   "execution_count": 26,
   "metadata": {},
   "outputs": [
    {
     "data": {
      "text/html": [
       "<div>\n",
       "<style scoped>\n",
       "    .dataframe tbody tr th:only-of-type {\n",
       "        vertical-align: middle;\n",
       "    }\n",
       "\n",
       "    .dataframe tbody tr th {\n",
       "        vertical-align: top;\n",
       "    }\n",
       "\n",
       "    .dataframe thead th {\n",
       "        text-align: right;\n",
       "    }\n",
       "</style>\n",
       "<table border=\"1\" class=\"dataframe\">\n",
       "  <thead>\n",
       "    <tr style=\"text-align: right;\">\n",
       "      <th>streamer</th>\n",
       "      <th>0</th>\n",
       "      <th>1</th>\n",
       "    </tr>\n",
       "    <tr>\n",
       "      <th>has_churned</th>\n",
       "      <th></th>\n",
       "      <th></th>\n",
       "    </tr>\n",
       "  </thead>\n",
       "  <tbody>\n",
       "    <tr>\n",
       "      <th>0</th>\n",
       "      <td>2736</td>\n",
       "      <td>2438</td>\n",
       "    </tr>\n",
       "    <tr>\n",
       "      <th>1</th>\n",
       "      <td>808</td>\n",
       "      <td>1061</td>\n",
       "    </tr>\n",
       "  </tbody>\n",
       "</table>\n",
       "</div>"
      ],
      "text/plain": [
       "streamer        0     1\n",
       "has_churned            \n",
       "0            2736  2438\n",
       "1             808  1061"
      ]
     },
     "execution_count": 26,
     "metadata": {},
     "output_type": "execute_result"
    }
   ],
   "source": [
    "#crosstab for auto_pay and churn\n",
    "observed_2 = pd.crosstab(telco_churn['has_churned'],telco_churn['streamer'])\n",
    "observed_2"
   ]
  },
  {
   "cell_type": "code",
   "execution_count": 27,
   "metadata": {},
   "outputs": [
    {
     "name": "stdout",
     "output_type": "stream",
     "text": [
      "p-value is: 1.0541667201283859e-12\n",
      "\n",
      "chi2 = 50.740591762430526\n",
      "\n",
      "Since p < .05, we reject the null hypothesis.\n"
     ]
    }
   ],
   "source": [
    "# Set our alpha\n",
    "alpha = .01\n",
    "\n",
    "#run chi2 test\n",
    "chi2, p, degf, expected = stats.chi2_contingency(observed_2)\n",
    "\n",
    "print(f'p-value is: {p}')\n",
    "print()\n",
    "print(f'chi2 = {chi2}')\n",
    "print()\n",
    "if p < alpha:\n",
    "    print(\"Since p < .05, we reject the null hypothesis.\")\n",
    "else:\n",
    "    print(\"We fail to reject the null\")"
   ]
  },
  {
   "cell_type": "markdown",
   "metadata": {},
   "source": [
    "## Hypothesis Test #3\n",
    "\n",
    "Does having auto pay affect whether customers will churn?\n",
    "H0: Churn is independent of auto_pay. \n",
    "Alternative: They are dependent.\n"
   ]
  },
  {
   "cell_type": "code",
   "execution_count": 28,
   "metadata": {},
   "outputs": [
    {
     "data": {
      "text/html": [
       "<div>\n",
       "<style scoped>\n",
       "    .dataframe tbody tr th:only-of-type {\n",
       "        vertical-align: middle;\n",
       "    }\n",
       "\n",
       "    .dataframe tbody tr th {\n",
       "        vertical-align: top;\n",
       "    }\n",
       "\n",
       "    .dataframe thead th {\n",
       "        text-align: right;\n",
       "    }\n",
       "</style>\n",
       "<table border=\"1\" class=\"dataframe\">\n",
       "  <thead>\n",
       "    <tr style=\"text-align: right;\">\n",
       "      <th>has_auto_pay</th>\n",
       "      <th>0</th>\n",
       "      <th>1</th>\n",
       "    </tr>\n",
       "    <tr>\n",
       "      <th>has_churned</th>\n",
       "      <th></th>\n",
       "      <th></th>\n",
       "    </tr>\n",
       "  </thead>\n",
       "  <tbody>\n",
       "    <tr>\n",
       "      <th>0</th>\n",
       "      <td>2598</td>\n",
       "      <td>2576</td>\n",
       "    </tr>\n",
       "    <tr>\n",
       "      <th>1</th>\n",
       "      <td>1379</td>\n",
       "      <td>490</td>\n",
       "    </tr>\n",
       "  </tbody>\n",
       "</table>\n",
       "</div>"
      ],
      "text/plain": [
       "has_auto_pay     0     1\n",
       "has_churned             \n",
       "0             2598  2576\n",
       "1             1379   490"
      ]
     },
     "execution_count": 28,
     "metadata": {},
     "output_type": "execute_result"
    }
   ],
   "source": [
    "#crosstab for auto_pay and churn\n",
    "observed_3 = pd.crosstab(telco_churn['has_churned'],telco_churn['has_auto_pay'])\n",
    "observed_3"
   ]
  },
  {
   "cell_type": "code",
   "execution_count": 29,
   "metadata": {},
   "outputs": [
    {
     "name": "stdout",
     "output_type": "stream",
     "text": [
      "p-value is: 3.0278725722860343e-69\n",
      "\n",
      "chi2 = 309.3485572016954\n",
      "\n",
      "Since p < .05, we reject the null hypothesis.\n"
     ]
    }
   ],
   "source": [
    "# Set our alpha\n",
    "alpha = .01\n",
    "\n",
    "#run chi2 test\n",
    "chi2, p, degf, expected = stats.chi2_contingency(observed_3)\n",
    "\n",
    "print(f'p-value is: {p}')\n",
    "print()\n",
    "print(f'chi2 = {chi2}')\n",
    "print()\n",
    "if p < alpha:\n",
    "    print(\"Since p < .05, we reject the null hypothesis.\")\n",
    "else:\n",
    "    print(\"We fail to reject the null\")"
   ]
  },
  {
   "cell_type": "markdown",
   "metadata": {},
   "source": [
    "### Splitting Data for Modeling"
   ]
  },
  {
   "cell_type": "code",
   "execution_count": 32,
   "metadata": {},
   "outputs": [],
   "source": [
    "# Splitting out target variable from X_train\n",
    "\n",
    "features = ['no_tech_support', 'has_auto_pay','month_to_month','streamer','fiber']\n",
    "target = ['has_churned']\n",
    "\n",
    "X_train = train.drop(columns = ['has_churned', 'total_charges', 'customer_id'],axis=1)\n",
    "X_validate = validate.drop(columns = ['has_churned', 'total_charges', 'customer_id'],axis=1)\n",
    "X_test = test.drop(columns = ['has_churned', 'total_charges', 'customer_id'],axis=1)\n",
    "\n",
    "# Establishing target as y_train\n",
    "y_train = train.has_churned\n",
    "y_validate = validate.has_churned\n",
    "y_test = test.has_churned"
   ]
  },
  {
   "cell_type": "markdown",
   "metadata": {},
   "source": [
    "### Establish a Baseline Accuracy to determine if having a model is better than no model."
   ]
  },
  {
   "cell_type": "code",
   "execution_count": 33,
   "metadata": {},
   "outputs": [
    {
     "data": {
      "text/plain": [
       "0    2897\n",
       "1    1046\n",
       "Name: has_churned, dtype: int64"
      ]
     },
     "execution_count": 33,
     "metadata": {},
     "output_type": "execute_result"
    }
   ],
   "source": [
    "y_train.value_counts()"
   ]
  },
  {
   "cell_type": "code",
   "execution_count": 34,
   "metadata": {},
   "outputs": [
    {
     "data": {
      "text/html": [
       "<div>\n",
       "<style scoped>\n",
       "    .dataframe tbody tr th:only-of-type {\n",
       "        vertical-align: middle;\n",
       "    }\n",
       "\n",
       "    .dataframe tbody tr th {\n",
       "        vertical-align: top;\n",
       "    }\n",
       "\n",
       "    .dataframe thead th {\n",
       "        text-align: right;\n",
       "    }\n",
       "</style>\n",
       "<table border=\"1\" class=\"dataframe\">\n",
       "  <thead>\n",
       "    <tr style=\"text-align: right;\">\n",
       "      <th></th>\n",
       "      <th>actual</th>\n",
       "      <th>baseline</th>\n",
       "    </tr>\n",
       "  </thead>\n",
       "  <tbody>\n",
       "    <tr>\n",
       "      <th>5710</th>\n",
       "      <td>0</td>\n",
       "      <td>0</td>\n",
       "    </tr>\n",
       "    <tr>\n",
       "      <th>4465</th>\n",
       "      <td>0</td>\n",
       "      <td>0</td>\n",
       "    </tr>\n",
       "    <tr>\n",
       "      <th>5017</th>\n",
       "      <td>0</td>\n",
       "      <td>0</td>\n",
       "    </tr>\n",
       "    <tr>\n",
       "      <th>3521</th>\n",
       "      <td>0</td>\n",
       "      <td>0</td>\n",
       "    </tr>\n",
       "    <tr>\n",
       "      <th>3828</th>\n",
       "      <td>0</td>\n",
       "      <td>0</td>\n",
       "    </tr>\n",
       "  </tbody>\n",
       "</table>\n",
       "</div>"
      ],
      "text/plain": [
       "      actual  baseline\n",
       "5710       0         0\n",
       "4465       0         0\n",
       "5017       0         0\n",
       "3521       0         0\n",
       "3828       0         0"
      ]
     },
     "execution_count": 34,
     "metadata": {},
     "output_type": "execute_result"
    }
   ],
   "source": [
    "baseline = pd.DataFrame(y_train)\n",
    "baseline['baseline'] = 0\n",
    "\n",
    "baseline.columns = ['actual','baseline']\n",
    "baseline.head()"
   ]
  },
  {
   "cell_type": "code",
   "execution_count": 35,
   "metadata": {},
   "outputs": [
    {
     "data": {
      "text/html": [
       "<div>\n",
       "<style scoped>\n",
       "    .dataframe tbody tr th:only-of-type {\n",
       "        vertical-align: middle;\n",
       "    }\n",
       "\n",
       "    .dataframe tbody tr th {\n",
       "        vertical-align: top;\n",
       "    }\n",
       "\n",
       "    .dataframe thead th {\n",
       "        text-align: right;\n",
       "    }\n",
       "</style>\n",
       "<table border=\"1\" class=\"dataframe\">\n",
       "  <thead>\n",
       "    <tr style=\"text-align: right;\">\n",
       "      <th>actual</th>\n",
       "      <th>0</th>\n",
       "      <th>1</th>\n",
       "    </tr>\n",
       "    <tr>\n",
       "      <th>baseline</th>\n",
       "      <th></th>\n",
       "      <th></th>\n",
       "    </tr>\n",
       "  </thead>\n",
       "  <tbody>\n",
       "    <tr>\n",
       "      <th>0</th>\n",
       "      <td>2897</td>\n",
       "      <td>1046</td>\n",
       "    </tr>\n",
       "  </tbody>\n",
       "</table>\n",
       "</div>"
      ],
      "text/plain": [
       "actual       0     1\n",
       "baseline            \n",
       "0         2897  1046"
      ]
     },
     "execution_count": 35,
     "metadata": {},
     "output_type": "execute_result"
    }
   ],
   "source": [
    "# cross tab of our baseline versus actual\n",
    "pd.crosstab(baseline['baseline'], baseline['actual'])"
   ]
  },
  {
   "cell_type": "code",
   "execution_count": 36,
   "metadata": {},
   "outputs": [
    {
     "name": "stdout",
     "output_type": "stream",
     "text": [
      "The baseline accuracy is 73.47 percent.\n"
     ]
    }
   ],
   "source": [
    "# let's calculate the accuracy\n",
    "# positive will be not churned\n",
    "# (TP + TN) / (TP + TN + FP + FN)\n",
    "\n",
    "#predicting not churned and the customer has not churned\n",
    "TP = 2897\n",
    "\n",
    "#predicting not churned and the customer has churned\n",
    "FP = 1046\n",
    "\n",
    "#predicting the customer has churned and they have churned\n",
    "TN = 0\n",
    "\n",
    "#predicting the customer has churned and they have not churned\n",
    "FN = 0\n",
    "\n",
    "base_acc = (TP + TN) / (TP + TN + FP + FN)\n",
    "\n",
    "print(\"The baseline accuracy is\",round(base_acc * 100, 2),\"percent.\")"
   ]
  },
  {
   "cell_type": "markdown",
   "metadata": {},
   "source": [
    "## Logistic Regression Models"
   ]
  },
  {
   "cell_type": "markdown",
   "metadata": {},
   "source": [
    "#### LR Model 1\n",
    "\n",
    "- features = ['no_tech_support', 'has_auto_pay','month_to_month','streamer','fiber']\n",
    "- target = ['has_churned']\n",
    "- Accuracy of Logistic Regression classifier on training set: 77%\n",
    "- Baseline = 73%\n",
    "\n",
    "\n"
   ]
  },
  {
   "cell_type": "code",
   "execution_count": 40,
   "metadata": {},
   "outputs": [
    {
     "name": "stdout",
     "output_type": "stream",
     "text": [
      "Baseline is 0.73\n",
      "Accuracy of Logistic Regression classifier on training set: 0.77\n"
     ]
    }
   ],
   "source": [
    "# Create the logistic regression\n",
    "logit = LogisticRegression(random_state=123)\n",
    "\n",
    "# specify the target and features we're using\n",
    "features = ['no_tech_support', 'has_auto_pay','month_to_month','streamer','fiber']\n",
    "target = ['has_churned']\n",
    "\n",
    "# Fit a model using only these specified features\n",
    "# logit.fit(X_train[[\"age\", \"pclass\", \"fare\"]], y_train)\n",
    "logit.fit(X_train[features], y_train)\n",
    "\n",
    "# Since we .fit on a subset, we .predict on that same subset of features\n",
    "y_pred = logit.predict(X_train[features])\n",
    "\n",
    "print(\"Baseline is\", round(base_acc, 2))\n",
    "print('Accuracy of Logistic Regression classifier on training set: {:.2f}'\n",
    "     .format(logit.score(X_train[features], y_train)))"
   ]
  },
  {
   "cell_type": "code",
   "execution_count": 41,
   "metadata": {},
   "outputs": [],
   "source": [
    "# make prediction\n",
    "y_pred = logit.predict(X_train[features])"
   ]
  },
  {
   "cell_type": "code",
   "execution_count": 42,
   "metadata": {},
   "outputs": [
    {
     "name": "stdout",
     "output_type": "stream",
     "text": [
      "              precision    recall  f1-score   support\n",
      "\n",
      "           0       0.83      0.87      0.85      2897\n",
      "           1       0.58      0.50      0.54      1046\n",
      "\n",
      "    accuracy                           0.77      3943\n",
      "   macro avg       0.71      0.69      0.70      3943\n",
      "weighted avg       0.76      0.77      0.77      3943\n",
      "\n"
     ]
    }
   ],
   "source": [
    "#classification report\n",
    "print(classification_report(y_train, y_pred))"
   ]
  },
  {
   "cell_type": "markdown",
   "metadata": {},
   "source": [
    "#### Model 2\n",
    "\n",
    "- features = ['no_tech_support', 'has_auto_pay','month_to_month','fiber']\n",
    "- target = ['has_churned']\n",
    "- Accuracy of Logistic Regression classifier on training set: 78%\n",
    "- Baseline = 73%\n",
    "\n",
    "\n"
   ]
  },
  {
   "cell_type": "code",
   "execution_count": 43,
   "metadata": {},
   "outputs": [
    {
     "name": "stdout",
     "output_type": "stream",
     "text": [
      "Baseline is 0.73\n",
      "Accuracy of Logistic Regression classifier on training set: 0.78\n"
     ]
    }
   ],
   "source": [
    "# Create the logistic regression\n",
    "logit2 = LogisticRegression(random_state=123)\n",
    "\n",
    "# specify the target and features we're using\n",
    "features2 = ['no_tech_support', 'has_auto_pay','month_to_month','fiber']\n",
    "target = ['has_churned']\n",
    "\n",
    "# Fit a model using only these specified features\n",
    "logit2.fit(X_train[features2], y_train)\n",
    "\n",
    "# Since we .fit on a subset, we .predict on that same subset of features\n",
    "y_pred2 = logit2.predict(X_train[features2])\n",
    "\n",
    "print(\"Baseline is\", round(base_acc, 2))\n",
    "print('Accuracy of Logistic Regression classifier on training set: {:.2f}'\n",
    "     .format(logit2.score(X_train[features2], y_train)))\n"
   ]
  },
  {
   "cell_type": "code",
   "execution_count": 44,
   "metadata": {},
   "outputs": [],
   "source": [
    "# make prediction\n",
    "y_pred2 = logit2.predict(X_train[features2])"
   ]
  },
  {
   "cell_type": "code",
   "execution_count": 45,
   "metadata": {},
   "outputs": [
    {
     "name": "stdout",
     "output_type": "stream",
     "text": [
      "              precision    recall  f1-score   support\n",
      "\n",
      "           0       0.81      0.90      0.85      2897\n",
      "           1       0.61      0.43      0.50      1046\n",
      "\n",
      "    accuracy                           0.78      3943\n",
      "   macro avg       0.71      0.67      0.68      3943\n",
      "weighted avg       0.76      0.78      0.76      3943\n",
      "\n"
     ]
    }
   ],
   "source": [
    "#classification report\n",
    "print(classification_report(y_train, y_pred2))"
   ]
  },
  {
   "cell_type": "markdown",
   "metadata": {},
   "source": [
    "## Decision Tree"
   ]
  },
  {
   "cell_type": "markdown",
   "metadata": {},
   "source": [
    "#### DT Model 1\n",
    "\n",
    "- features = ['no_tech_support', 'has_auto_pay','month_to_month','streamer','fiber']\n",
    "- target = ['has_churned']\n",
    "- Accuracy of Decision Tree classifier on training set: 77%\n",
    "- Baseline = 73%\n",
    "\n"
   ]
  },
  {
   "cell_type": "code",
   "execution_count": 46,
   "metadata": {},
   "outputs": [
    {
     "data": {
      "text/plain": [
       "DecisionTreeClassifier(max_depth=3)"
      ]
     },
     "execution_count": 46,
     "metadata": {},
     "output_type": "execute_result"
    }
   ],
   "source": [
    "# Generate a blank, decision tree model\n",
    "clf1 = DecisionTreeClassifier(max_depth=3)\n",
    "\n",
    "#Specify the features\n",
    "features = ['no_tech_support', 'has_auto_pay','month_to_month','streamer','fiber']\n",
    "\n",
    "# Train(fit) the model\n",
    "dt1 = clf1.fit(X_train[features], y_train)\n",
    "dt1"
   ]
  },
  {
   "cell_type": "code",
   "execution_count": 47,
   "metadata": {},
   "outputs": [
    {
     "data": {
      "text/plain": [
       "'churn_decision_tree.pdf'"
      ]
     },
     "execution_count": 47,
     "metadata": {},
     "output_type": "execute_result"
    }
   ],
   "source": [
    "# Visualize the model so it can explain itself!\n",
    "dot_data = export_graphviz(clf1, feature_names= features, rounded=True, filled=True, out_file=None)\n",
    "graph = graphviz.Source(dot_data) \n",
    "\n",
    "graph.render('churn_decision_tree', view=True)"
   ]
  },
  {
   "cell_type": "code",
   "execution_count": 48,
   "metadata": {},
   "outputs": [
    {
     "name": "stdout",
     "output_type": "stream",
     "text": [
      "Accuracy of model with all features: 0.7740299264519401\n",
      "\n",
      "The confusion matrix:\n",
      " [[2522  375]\n",
      " [ 519  527]]\n",
      "\n",
      "Classification report:\n",
      "               precision    recall  f1-score   support\n",
      "\n",
      "           0       0.83      0.87      0.85      2897\n",
      "           1       0.58      0.50      0.54      1046\n",
      "\n",
      "    accuracy                           0.77      3943\n",
      "   macro avg       0.71      0.69      0.70      3943\n",
      "weighted avg       0.76      0.77      0.77      3943\n",
      "\n"
     ]
    }
   ],
   "source": [
    "y_pred3 = clf1.predict(X_train[features])\n",
    "y_pred3_proba = clf1.predict_proba(X_train[features])\n",
    "\n",
    "#evaluate metrics\n",
    "print('Accuracy of model with all features:', clf1.score(X_train[features], y_train))\n",
    "print('\\nThe confusion matrix:\\n',confusion_matrix(y_train, y_pred))\n",
    "print('\\nClassification report:\\n',classification_report(y_train, y_pred))"
   ]
  },
  {
   "cell_type": "code",
   "execution_count": 49,
   "metadata": {},
   "outputs": [
    {
     "data": {
      "text/plain": [
       "0.7740299264519401"
      ]
     },
     "execution_count": 49,
     "metadata": {},
     "output_type": "execute_result"
    }
   ],
   "source": [
    "# Model score on accuracy:\n",
    "accuracy = clf1.score(X_train[features],y_train)\n",
    "accuracy"
   ]
  },
  {
   "cell_type": "markdown",
   "metadata": {},
   "source": [
    "## K-Nearest Neighbor"
   ]
  },
  {
   "cell_type": "markdown",
   "metadata": {},
   "source": [
    "#### KNN Model 1\n",
    "\n",
    "- features = ['no_tech_support', 'has_auto_pay','month_to_month','streamer','fiber']\n",
    "- target = ['has_churned']\n",
    "- Accuracy of KNN on training set: 74% \n",
    "- Baseline = 73%\n",
    "\n"
   ]
  },
  {
   "cell_type": "code",
   "execution_count": 55,
   "metadata": {},
   "outputs": [],
   "source": [
    "#making the model\n",
    "knn = KNeighborsClassifier()"
   ]
  },
  {
   "cell_type": "code",
   "execution_count": 56,
   "metadata": {},
   "outputs": [],
   "source": [
    "#Specify the features\n",
    "features = ['no_tech_support', 'has_auto_pay','month_to_month','streamer','fiber']\n",
    "\n",
    "#train/fit the model\n",
    "\n",
    "knn_fit = knn.fit(X_train[features], y_train)"
   ]
  },
  {
   "cell_type": "code",
   "execution_count": 57,
   "metadata": {},
   "outputs": [],
   "source": [
    "# evaluating the model\n",
    "y_pred = knn.predict(X_train[features])"
   ]
  },
  {
   "cell_type": "code",
   "execution_count": 58,
   "metadata": {},
   "outputs": [
    {
     "name": "stdout",
     "output_type": "stream",
     "text": [
      "Model accuracy is 0.759\n"
     ]
    }
   ],
   "source": [
    "# check model accuracy\n",
    "accuracy = knn.score(X_train[features], y_train)\n",
    "print(f'Model accuracy is {accuracy:.3}')"
   ]
  },
  {
   "cell_type": "code",
   "execution_count": 59,
   "metadata": {},
   "outputs": [
    {
     "name": "stdout",
     "output_type": "stream",
     "text": [
      "              precision    recall  f1-score   support\n",
      "\n",
      "           0       0.79      0.91      0.85      2897\n",
      "           1       0.58      0.34      0.43      1046\n",
      "\n",
      "    accuracy                           0.76      3943\n",
      "   macro avg       0.68      0.63      0.64      3943\n",
      "weighted avg       0.74      0.76      0.74      3943\n",
      "\n"
     ]
    }
   ],
   "source": [
    "# Classification metrics report\n",
    "# y_train is the actual labels for the target variable\n",
    "# y_pred is the predictions that the model makes based off our X features\n",
    "\n",
    "print(classification_report(y_train, y_pred))"
   ]
  },
  {
   "cell_type": "markdown",
   "metadata": {},
   "source": [
    "#### KNN Model 2\n",
    "- k = 20\n",
    "- features = ['no_tech_support', 'has_auto_pay','month_to_month','streamer','fiber']\n",
    "- target = ['has_churned']\n",
    "- Accuracy of KNN on training set: 74% \n",
    "- Baseline = 73%\n",
    "\n"
   ]
  },
  {
   "cell_type": "code",
   "execution_count": 60,
   "metadata": {},
   "outputs": [],
   "source": [
    "#making the model\n",
    "k = 20\n",
    "knn_20 = KNeighborsClassifier(n_neighbors=k)\n"
   ]
  },
  {
   "cell_type": "code",
   "execution_count": 61,
   "metadata": {},
   "outputs": [],
   "source": [
    "#Specify the features\n",
    "features20 = ['no_tech_support', 'has_auto_pay','month_to_month','streamer','fiber']\n",
    "\n",
    "#train/fit the model\n",
    "\n",
    "knn_20_fit = knn_20.fit(X_train[features20], y_train)"
   ]
  },
  {
   "cell_type": "code",
   "execution_count": 62,
   "metadata": {},
   "outputs": [],
   "source": [
    "# evaluating the model\n",
    "y_pred_20 = knn_20_fit.predict(X_train[features20])"
   ]
  },
  {
   "cell_type": "code",
   "execution_count": 63,
   "metadata": {},
   "outputs": [
    {
     "name": "stdout",
     "output_type": "stream",
     "text": [
      "Model accuracy is 0.759\n"
     ]
    }
   ],
   "source": [
    "# check model accuracy\n",
    "accuracy_20 = knn_20_fit.score(X_train[features20], y_train)\n",
    "print(f'Model accuracy is {accuracy:.3}')"
   ]
  },
  {
   "cell_type": "code",
   "execution_count": 64,
   "metadata": {},
   "outputs": [
    {
     "name": "stdout",
     "output_type": "stream",
     "text": [
      "              precision    recall  f1-score   support\n",
      "\n",
      "           0       0.79      0.91      0.85      2897\n",
      "           1       0.58      0.34      0.43      1046\n",
      "\n",
      "    accuracy                           0.76      3943\n",
      "   macro avg       0.68      0.63      0.64      3943\n",
      "weighted avg       0.74      0.76      0.74      3943\n",
      "\n"
     ]
    }
   ],
   "source": [
    "# Classification metrics report\n",
    "# y_train is the actual labels for the target variable\n",
    "# y_pred is the predictions that the model makes based off our X features\n",
    "\n",
    "print(classification_report(y_train, y_pred))"
   ]
  },
  {
   "cell_type": "markdown",
   "metadata": {},
   "source": [
    "### Run best performing model on out-of-sample data (Validate)\n",
    "\n",
    "#### LR Model 1\n",
    "\n",
    "- features = ['no_tech_support', 'has_auto_pay','month_to_month','streamer','fiber']\n",
    "- target = ['churn']\n",
    "- Accuracy of Logistic Regression Classifier on training set: 77%\n",
    "- Accuracy of Logistic Regression Classifier on validate set: 78%\n",
    "- Baseline = 73%\n",
    "\n",
    "\n"
   ]
  },
  {
   "cell_type": "code",
   "execution_count": 65,
   "metadata": {},
   "outputs": [
    {
     "name": "stdout",
     "output_type": "stream",
     "text": [
      "Model 1: solver = lbfgs, c = 1\n",
      "Accuracy: 0.77\n",
      "[[1078  164]\n",
      " [ 219  230]]\n",
      "              precision    recall  f1-score   support\n",
      "\n",
      "           0       0.83      0.87      0.85      1242\n",
      "           1       0.58      0.51      0.55       449\n",
      "\n",
      "    accuracy                           0.77      1691\n",
      "   macro avg       0.71      0.69      0.70      1691\n",
      "weighted avg       0.77      0.77      0.77      1691\n",
      "\n"
     ]
    }
   ],
   "source": [
    "# specify the target and features we're using\n",
    "features = ['no_tech_support', 'has_auto_pay','month_to_month','streamer','fiber']\n",
    "\n",
    "# Make prediction for validate dataset\n",
    "y_pred_validate = logit.predict(X_validate[features])\n",
    "\n",
    "\n",
    "print(\"Model 1: solver = lbfgs, c = 1\")\n",
    "\n",
    "print('Accuracy: {:.2f}'.format(logit.score(X_validate[features], y_validate)))\n",
    "\n",
    "print(confusion_matrix(y_validate, y_pred_validate))\n",
    "\n",
    "print(classification_report(y_validate, y_pred_validate))"
   ]
  },
  {
   "cell_type": "markdown",
   "metadata": {},
   "source": [
    "Run Best Performing Model on Test\n",
    "Logistic Regression\n"
   ]
  },
  {
   "cell_type": "code",
   "execution_count": 67,
   "metadata": {},
   "outputs": [
    {
     "name": "stdout",
     "output_type": "stream",
     "text": [
      "Test Performance: Logistic Regression\n",
      "Accuracy: 0.7835\n",
      "[[922 113]\n",
      " [192 182]]\n",
      "              precision    recall  f1-score   support\n",
      "\n",
      "           0       0.83      0.89      0.86      1035\n",
      "           1       0.62      0.49      0.54       374\n",
      "\n",
      "    accuracy                           0.78      1409\n",
      "   macro avg       0.72      0.69      0.70      1409\n",
      "weighted avg       0.77      0.78      0.77      1409\n",
      "\n"
     ]
    }
   ],
   "source": [
    "#Specify the features\n",
    "features = ['no_tech_support', 'has_auto_pay','month_to_month','streamer','fiber']\n",
    "\n",
    "y_pred_2 = logit.predict(X_test[features])\n",
    "\n",
    "print(\"Test Performance: Logistic Regression\")\n",
    "\n",
    "print('Accuracy: {:.4f}'.format(logit.score(X_test[features], y_test)))\n",
    "\n",
    "print(confusion_matrix(y_test, y_pred_2))\n",
    "\n",
    "print(classification_report(y_test, y_pred_2))"
   ]
  },
  {
   "cell_type": "code",
   "execution_count": null,
   "metadata": {},
   "outputs": [],
   "source": []
  },
  {
   "cell_type": "markdown",
   "metadata": {},
   "source": [
    "### Conclusion\n",
    "\n",
    "**My analysis revealed that number of factors are contributing to churn:**\n",
    "- Lack of technical support\n",
    "- Customer does not participate in auto-pay\n",
    "- Customer does not subscribe to streaming services\n",
    "- Customer is on a month-to-month contract\n",
    "- Customer has fiber optic internet\n",
    "\n",
    "**Some recommendations to reduce churn include:** \n",
    "- Offering reduced prices on tech support for internet customers.\n",
    "- Offer packages for streaming movies and tv\n",
    "- Encourage customers to participate in some for of automatic payment (bank draft or credict card.\n",
    "- Incentivize 1- and 2-year contracts\n",
    "\n",
    "**With additional time to work on this project, I will:** \n",
    "\n",
    "- Analyze combinations of factors that may be driving churn in fiber optic customers.\n",
    "- Run additional models, varying the hyperparameters to see if model performance can be improved/more accurate.\n",
    "- Investigate our pricing structure across various services to identify if our pricing strategy may be suboptimal.\n",
    "\n",
    "**A .csv file containing a prediction of churn for customers is included for your review.**"
   ]
  },
  {
   "cell_type": "code",
   "execution_count": 94,
   "metadata": {},
   "outputs": [
    {
     "name": "stdout",
     "output_type": "stream",
     "text": [
      "<class 'pandas.core.frame.DataFrame'>\n",
      "Int64Index: 7043 entries, 0 to 7042\n",
      "Data columns (total 30 columns):\n",
      " #   Column                Non-Null Count  Dtype  \n",
      "---  ------                --------------  -----  \n",
      " 0   customer_id           7043 non-null   object \n",
      " 1   senior_citizen        7043 non-null   int64  \n",
      " 2   tenure_months         7043 non-null   int64  \n",
      " 3   paperless_billing     7043 non-null   int64  \n",
      " 4   monthly_charges       7043 non-null   float64\n",
      " 5   total_charges         7032 non-null   float64\n",
      " 6   churn                 7043 non-null   object \n",
      " 7   tenure_years          7043 non-null   float64\n",
      " 8   phone_services        7043 non-null   int64  \n",
      " 9   gender_Female         7043 non-null   uint8  \n",
      " 10  gender_Male           7043 non-null   uint8  \n",
      " 11  streamer              7043 non-null   int64  \n",
      " 12  has_churned           7043 non-null   int64  \n",
      " 13  is_single_no_dep      7043 non-null   int64  \n",
      " 14  has_partner_no_dep    7043 non-null   int64  \n",
      " 15  is_single_with_dep    7043 non-null   int64  \n",
      " 16  family                7043 non-null   int64  \n",
      " 17  month_to_month        7043 non-null   int64  \n",
      " 18  one_year              7043 non-null   int64  \n",
      " 19  two_year              7043 non-null   int64  \n",
      " 20  use_Check             7043 non-null   int64  \n",
      " 21  sends_check           7043 non-null   int64  \n",
      " 22  has_auto_pay          7043 non-null   int64  \n",
      " 23  dsl                   7043 non-null   int64  \n",
      " 24  fiber                 7043 non-null   int64  \n",
      " 25  no_internet           7043 non-null   int64  \n",
      " 26  no_tech_support       7043 non-null   int64  \n",
      " 27  no_online_security    7043 non-null   int64  \n",
      " 28  no_online_backup      7043 non-null   int64  \n",
      " 29  no_device_protection  7043 non-null   int64  \n",
      "dtypes: float64(3), int64(23), object(2), uint8(2)\n",
      "memory usage: 1.6+ MB\n"
     ]
    }
   ],
   "source": [
    "telco_churn.info()"
   ]
  },
  {
   "cell_type": "code",
   "execution_count": 68,
   "metadata": {},
   "outputs": [],
   "source": [
    "# Features to be used in the model\n",
    "features = ['no_tech_support', 'has_auto_pay','month_to_month','streamer','fiber']\n",
    "\n",
    "rf = RandomForestClassifier(bootstrap=True, \n",
    "                            class_weight=None, \n",
    "                            criterion='gini',\n",
    "                            min_samples_leaf=3,\n",
    "                            n_estimators=100,\n",
    "                            max_depth=3, \n",
    "                            random_state=123)"
   ]
  },
  {
   "cell_type": "code",
   "execution_count": 71,
   "metadata": {},
   "outputs": [
    {
     "data": {
      "text/plain": [
       "RandomForestClassifier(max_depth=3, min_samples_leaf=3, random_state=123)"
      ]
     },
     "execution_count": 71,
     "metadata": {},
     "output_type": "execute_result"
    }
   ],
   "source": [
    "# Fit the model \n",
    "rf.fit(X_train[features], y_train)"
   ]
  },
  {
   "cell_type": "code",
   "execution_count": 79,
   "metadata": {},
   "outputs": [
    {
     "name": "stdout",
     "output_type": "stream",
     "text": [
      "[0.24035193 0.05178433 0.47898289 0.01450963 0.21437122]\n"
     ]
    }
   ],
   "source": [
    "# Feature Importance\n",
    "print(rf.feature_importances_)\n",
    "\n",
    "# Make Predictions\n",
    "y_pred = rf.predict(X_train[features])\n",
    "\n",
    "# Estimate probability\n",
    "y_pred_proba = rf.predict_proba(X_train[features])"
   ]
  },
  {
   "cell_type": "code",
   "execution_count": 80,
   "metadata": {},
   "outputs": [
    {
     "name": "stdout",
     "output_type": "stream",
     "text": [
      "              precision    recall  f1-score   support\n",
      "\n",
      "           0       0.81      0.90      0.85      2897\n",
      "           1       0.61      0.43      0.50      1046\n",
      "\n",
      "    accuracy                           0.78      3943\n",
      "   macro avg       0.71      0.67      0.68      3943\n",
      "weighted avg       0.76      0.78      0.76      3943\n",
      "\n"
     ]
    }
   ],
   "source": [
    "print(classification_report(y_train, y_pred))"
   ]
  },
  {
   "cell_type": "code",
   "execution_count": 78,
   "metadata": {},
   "outputs": [
    {
     "name": "stdout",
     "output_type": "stream",
     "text": [
      "Accuracy of random forest classifier on training set: 0.78\n",
      "Confusion Matrix:\n",
      "[[2608  289]\n",
      " [ 596  450]]\n"
     ]
    }
   ],
   "source": [
    "print('Accuracy of random forest classifier on training set: {:.2f}'\n",
    "     .format(rf.score(X_train[features], y_train)))\n",
    "print('Confusion Matrix:')\n",
    "print(confusion_matrix(y_train, y_pred))"
   ]
  },
  {
   "cell_type": "code",
   "execution_count": 87,
   "metadata": {},
   "outputs": [
    {
     "ename": "TypeError",
     "evalue": "lookup() missing 1 required positional argument: 'col_labels'",
     "output_type": "error",
     "traceback": [
      "\u001b[0;31m---------------------------------------------------------------------------\u001b[0m",
      "\u001b[0;31mTypeError\u001b[0m                                 Traceback (most recent call last)",
      "\u001b[0;32m<ipython-input-87-4a7718f02a61>\u001b[0m in \u001b[0;36m<module>\u001b[0;34m\u001b[0m\n\u001b[0;32m----> 1\u001b[0;31m \u001b[0mtelco_churn\u001b[0m\u001b[0;34m.\u001b[0m\u001b[0mlookup\u001b[0m\u001b[0;34m(\u001b[0m\u001b[0;34m'customer_id'\u001b[0m\u001b[0;34m)\u001b[0m\u001b[0;34m\u001b[0m\u001b[0;34m\u001b[0m\u001b[0m\n\u001b[0m",
      "\u001b[0;31mTypeError\u001b[0m: lookup() missing 1 required positional argument: 'col_labels'"
     ]
    }
   ],
   "source": [
    "telco_churn.get_value(index, col, takeable=False)"
   ]
  },
  {
   "cell_type": "code",
   "execution_count": null,
   "metadata": {},
   "outputs": [],
   "source": []
  }
 ],
 "metadata": {
  "kernelspec": {
   "display_name": "Python 3",
   "language": "python",
   "name": "python3"
  },
  "language_info": {
   "codemirror_mode": {
    "name": "ipython",
    "version": 3
   },
   "file_extension": ".py",
   "mimetype": "text/x-python",
   "name": "python",
   "nbconvert_exporter": "python",
   "pygments_lexer": "ipython3",
   "version": "3.8.5"
  }
 },
 "nbformat": 4,
 "nbformat_minor": 4
}
