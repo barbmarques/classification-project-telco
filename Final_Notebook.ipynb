{
 "cells": [
  {
   "cell_type": "markdown",
   "metadata": {},
   "source": [
    "### **Project Summary:**\n",
    "\n",
    "Telco is concerned about its significant customer attrition rate and has asked Codeup's Data Science team to identify drivers of churn. To do this, we created a machine learning model which predicts future customer churn as accurately as possible. \n",
    "\n",
    "**Project Goals:**\n",
    "- Find drivers for customer churn at Telco\n",
    "- Construct a ML classification model that accurately predicts customer churn. \n",
    "\n",
    "**Using a Random Forest Model, we identified the following predictors of churn:**\n",
    "- lack of tech support\n",
    "- month-to-month contract\n",
    "- non-enrollment in auto-pay\n",
    "- fiber optic internet \n",
    "- not subscribing to streaming movies and/or tv\n",
    "\n",
    "We have created a csv file, ```churn_probability.csv``` which details the prediction and probability of churn for each Telco customer in our test data. We have also developed several recommendations to reduce future customer churn. \n",
    "\n",
    "All files referenced in this presentation are available in the github repository for this project:   https://github.com/barbmarques/classification-project-telco.\n",
    "\n",
    "\n",
    "\n",
    "\n",
    "\n",
    "\n"
   ]
  },
  {
   "cell_type": "markdown",
   "metadata": {},
   "source": [
    "____________________________________________________________________________________________________"
   ]
  },
  {
   "cell_type": "markdown",
   "metadata": {},
   "source": [
    "### ```Planning```\n",
    "\n",
    "**Database Features**\n",
    "- We began with a dataset containing 24 attributes of 7,043 customers\n",
    "- A data dictionary is included in the README.md file on the github repository at: https://github.com/barbmarques/classification-project-telco/blob/main/README.md\n",
    "\n",
    "\n",
    "\n",
    "**Initial Questions:**\n",
    "- Does the type of internet service (DSL/fiber optic) have an effect customer churn?\n",
    "- What services (streaming/support) might increase customer retention?\n",
    "\n",
    "\n",
    "**The Pipeline:**  ```Plan -> Acquire -> Prepare -> Explore -> Model & Evaluate -> Deliver ```\n",
    "- Each step in the our process is recorded and staged on a Trello board at:  https://trello.com/b/vOXbVcbl"
   ]
  },
  {
   "cell_type": "markdown",
   "metadata": {},
   "source": [
    "____________________________________________________________________________________________________"
   ]
  },
  {
   "cell_type": "markdown",
   "metadata": {},
   "source": [
    "### ```Acquiring the Data Set```"
   ]
  },
  {
   "cell_type": "markdown",
   "metadata": {},
   "source": [
    "The data was acquired by running the ```get_telco_data()```, a function included in the ```acquire.py``` file found in our github repository. Step-by-step instructions for reproducting our findings are included in the README.md file."
   ]
  },
  {
   "cell_type": "code",
   "execution_count": 10,
   "metadata": {},
   "outputs": [],
   "source": [
    "# Necessary imports\n",
    "import pandas as pd\n",
    "import matplotlib.pyplot as plt\n",
    "import seaborn as sns\n",
    "import numpy as np\n",
    "from prepare import train_validate_test_split\n",
    "\n",
    "#remove warning boxes\n",
    "import warnings \n",
    "warnings.filterwarnings(\"ignore\")\n",
    "\n",
    "#imports for acquire/prepare/explore\n",
    "import acquire\n",
    "import env\n",
    "import prepare\n",
    "import explore\n",
    "from scipy import stats\n",
    "import graphviz\n",
    "from graphviz import Graph\n",
    "from acquire import get_telco_data\n",
    "\n",
    "# imports for modeling/evaluating\n",
    "from sklearn.model_selection import train_test_split\n",
    "from sklearn.tree import DecisionTreeClassifier\n",
    "from sklearn.tree import export_graphviz\n",
    "from sklearn.neighbors import KNeighborsClassifier\n",
    "from sklearn.ensemble import RandomForestClassifier\n",
    "from sklearn.linear_model import LogisticRegression\n",
    "from sklearn.metrics import classification_report\n",
    "from sklearn.metrics import confusion_matrix\n",
    "import logistic_regression_util\n",
    "from prepare import train_validate_test_split"
   ]
  },
  {
   "cell_type": "code",
   "execution_count": 11,
   "metadata": {},
   "outputs": [],
   "source": [
    "# Acquire the data from the telco_churn database on the Codeup data science database server. \n",
    "df = get_telco_data()"
   ]
  },
  {
   "cell_type": "code",
   "execution_count": 12,
   "metadata": {},
   "outputs": [
    {
     "data": {
      "text/plain": [
       "7043"
      ]
     },
     "execution_count": 12,
     "metadata": {},
     "output_type": "execute_result"
    }
   ],
   "source": [
    "# Getting to know the data\n",
    "df.customer_id.nunique()"
   ]
  },
  {
   "cell_type": "code",
   "execution_count": 13,
   "metadata": {},
   "outputs": [
    {
     "name": "stdout",
     "output_type": "stream",
     "text": [
      "<class 'pandas.core.frame.DataFrame'>\n",
      "RangeIndex: 7043 entries, 0 to 7042\n",
      "Data columns (total 24 columns):\n",
      " #   Column                    Non-Null Count  Dtype  \n",
      "---  ------                    --------------  -----  \n",
      " 0   payment_type_id           7043 non-null   int64  \n",
      " 1   contract_type_id          7043 non-null   int64  \n",
      " 2   internet_service_type_id  7043 non-null   int64  \n",
      " 3   customer_id               7043 non-null   object \n",
      " 4   gender                    7043 non-null   object \n",
      " 5   senior_citizen            7043 non-null   int64  \n",
      " 6   partner                   7043 non-null   object \n",
      " 7   dependents                7043 non-null   object \n",
      " 8   tenure                    7043 non-null   int64  \n",
      " 9   phone_service             7043 non-null   object \n",
      " 10  multiple_lines            7043 non-null   object \n",
      " 11  online_security           7043 non-null   object \n",
      " 12  online_backup             7043 non-null   object \n",
      " 13  device_protection         7043 non-null   object \n",
      " 14  tech_support              7043 non-null   object \n",
      " 15  streaming_tv              7043 non-null   object \n",
      " 16  streaming_movies          7043 non-null   object \n",
      " 17  paperless_billing         7043 non-null   object \n",
      " 18  monthly_charges           7043 non-null   float64\n",
      " 19  total_charges             7043 non-null   object \n",
      " 20  churn                     7043 non-null   object \n",
      " 21  internet_service_type     7043 non-null   object \n",
      " 22  contract_type             7043 non-null   object \n",
      " 23  payment_type              7043 non-null   object \n",
      "dtypes: float64(1), int64(5), object(18)\n",
      "memory usage: 1.3+ MB\n"
     ]
    }
   ],
   "source": [
    "df.info()"
   ]
  },
  {
   "cell_type": "markdown",
   "metadata": {},
   "source": [
    "#### Visualizing Individual Columns"
   ]
  },
  {
   "cell_type": "code",
   "execution_count": 14,
   "metadata": {},
   "outputs": [
    {
     "data": {
      "image/png": "[encoded data removed]",
      "text/plain": [
       "<Figure size 144x144 with 1 Axes>"
      ]
     },
     "metadata": {
      "needs_background": "light"
     },
     "output_type": "display_data"
    },
    {
     "name": "stdout",
     "output_type": "stream",
     "text": [
      "    churn  Count  Percent\n",
      "No     No   5174    73.46\n",
      "Yes   Yes   1869    26.54\n",
      "_________________________________________________________________\n"
     ]
    },
    {
     "data": {
      "image/png": "[encoded data removed]",
      "text/plain": [
       "<Figure size 144x144 with 1 Axes>"
      ]
     },
     "metadata": {
      "needs_background": "light"
     },
     "output_type": "display_data"
    },
    {
     "name": "stdout",
     "output_type": "stream",
     "text": [
      "                 contract_type  Count  Percent\n",
      "Month-to-month  Month-to-month   3875    55.02\n",
      "Two year              One year   1695    24.07\n",
      "One year              Two year   1473    20.91\n",
      "_________________________________________________________________\n"
     ]
    },
    {
     "data": {
      "image/png": "[encoded data removed]",
      "text/plain": [
       "<Figure size 144x144 with 1 Axes>"
      ]
     },
     "metadata": {
      "needs_background": "light"
     },
     "output_type": "display_data"
    },
    {
     "name": "stdout",
     "output_type": "stream",
     "text": [
      "            internet_service_type  Count  Percent\n",
      "Fiber optic                   DSL   3096    43.96\n",
      "DSL                   Fiber optic   2421    34.37\n",
      "None                         None   1526    21.67\n",
      "_________________________________________________________________\n"
     ]
    },
    {
     "data": {
      "image/png": "[encoded data removed]",
      "text/plain": [
       "<Figure size 144x144 with 1 Axes>"
      ]
     },
     "metadata": {
      "needs_background": "light"
     },
     "output_type": "display_data"
    },
    {
     "name": "stdout",
     "output_type": "stream",
     "text": [
      "                        streaming_movies  Count  Percent\n",
      "No                                   Yes   2785    39.54\n",
      "Yes                                   No   2732    38.79\n",
      "No internet service  No internet service   1526    21.67\n",
      "_________________________________________________________________\n"
     ]
    },
    {
     "data": {
      "image/png": "[encoded data removed]",
      "text/plain": [
       "<Figure size 144x144 with 1 Axes>"
      ]
     },
     "metadata": {
      "needs_background": "light"
     },
     "output_type": "display_data"
    },
    {
     "name": "stdout",
     "output_type": "stream",
     "text": [
      "                            streaming_tv  Count  Percent\n",
      "No                                    No   2810    39.90\n",
      "Yes                                  Yes   2707    38.44\n",
      "No internet service  No internet service   1526    21.67\n",
      "_________________________________________________________________\n"
     ]
    },
    {
     "data": {
      "image/png": "[encoded data removed]",
      "text/plain": [
       "<Figure size 144x144 with 1 Axes>"
      ]
     },
     "metadata": {
      "needs_background": "light"
     },
     "output_type": "display_data"
    },
    {
     "name": "stdout",
     "output_type": "stream",
     "text": [
      "                            tech_support  Count  Percent\n",
      "No                                    No   3473    49.31\n",
      "Yes                                  Yes   2044    29.02\n",
      "No internet service  No internet service   1526    21.67\n",
      "_________________________________________________________________\n"
     ]
    },
    {
     "data": {
      "image/png": "[encoded data removed]",
      "text/plain": [
       "<Figure size 144x144 with 1 Axes>"
      ]
     },
     "metadata": {
      "needs_background": "light"
     },
     "output_type": "display_data"
    },
    {
     "name": "stdout",
     "output_type": "stream",
     "text": [
      "                       device_protection  Count  Percent\n",
      "No                                    No   3095    43.94\n",
      "Yes                                  Yes   2422    34.39\n",
      "No internet service  No internet service   1526    21.67\n",
      "_________________________________________________________________\n"
     ]
    },
    {
     "data": {
      "image/png": "[encoded data removed]",
      "text/plain": [
       "<Figure size 144x144 with 1 Axes>"
      ]
     },
     "metadata": {
      "needs_background": "light"
     },
     "output_type": "display_data"
    },
    {
     "name": "stdout",
     "output_type": "stream",
     "text": [
      "                           online_backup  Count  Percent\n",
      "No                                    No   3088    43.84\n",
      "Yes                                  Yes   2429    34.49\n",
      "No internet service  No internet service   1526    21.67\n",
      "_________________________________________________________________\n"
     ]
    },
    {
     "data": {
      "image/png": "[encoded data removed]",
      "text/plain": [
       "<Figure size 144x144 with 1 Axes>"
      ]
     },
     "metadata": {
      "needs_background": "light"
     },
     "output_type": "display_data"
    },
    {
     "name": "stdout",
     "output_type": "stream",
     "text": [
      "                         online_security  Count  Percent\n",
      "No                                    No   3498    49.67\n",
      "Yes                                  Yes   2019    28.67\n",
      "No internet service  No internet service   1526    21.67\n",
      "_________________________________________________________________\n"
     ]
    },
    {
     "data": {
      "image/png": "[encoded data removed]",
      "text/plain": [
       "<Figure size 144x144 with 1 Axes>"
      ]
     },
     "metadata": {
      "needs_background": "light"
     },
     "output_type": "display_data"
    },
    {
     "name": "stdout",
     "output_type": "stream",
     "text": [
      "                                        payment_type  Count  Percent\n",
      "Electronic check                        Mailed check   2365    33.58\n",
      "Mailed check                 Credit card (automatic)   1612    22.89\n",
      "Bank transfer (automatic)           Electronic check   1544    21.92\n",
      "Credit card (automatic)    Bank transfer (automatic)   1522    21.61\n",
      "_________________________________________________________________\n"
     ]
    },
    {
     "data": {
      "image/png": "[encoded data removed]",
      "text/plain": [
       "<Figure size 144x144 with 1 Axes>"
      ]
     },
     "metadata": {
      "needs_background": "light"
     },
     "output_type": "display_data"
    },
    {
     "name": "stdout",
     "output_type": "stream",
     "text": [
      "        gender  Count  Percent\n",
      "Male      Male   3555    50.48\n",
      "Female  Female   3488    49.52\n",
      "_________________________________________________________________\n"
     ]
    },
    {
     "data": {
      "image/png": "[encoded data removed]",
      "text/plain": [
       "<Figure size 576x144 with 2 Axes>"
      ]
     },
     "metadata": {
      "needs_background": "light"
     },
     "output_type": "display_data"
    },
    {
     "name": "stdout",
     "output_type": "stream",
     "text": [
      "count    7043.000000\n",
      "mean       64.761692\n",
      "std        30.090047\n",
      "min        18.250000\n",
      "25%        35.500000\n",
      "50%        70.350000\n",
      "75%        89.850000\n",
      "max       118.750000\n",
      "Name: monthly_charges, dtype: float64\n"
     ]
    },
    {
     "data": {
      "image/png": "[encoded data removed]",
      "text/plain": [
       "<Figure size 576x144 with 2 Axes>"
      ]
     },
     "metadata": {
      "needs_background": "light"
     },
     "output_type": "display_data"
    },
    {
     "name": "stdout",
     "output_type": "stream",
     "text": [
      "count    7043.000000\n",
      "mean       32.371149\n",
      "std        24.559481\n",
      "min         0.000000\n",
      "25%         9.000000\n",
      "50%        29.000000\n",
      "75%        55.000000\n",
      "max        72.000000\n",
      "Name: tenure, dtype: float64\n"
     ]
    }
   ],
   "source": [
    "cat_vars = ['churn','contract_type','internet_service_type',\n",
    "            'streaming_movies','streaming_tv','tech_support','device_protection','online_backup',\n",
    "            'online_security', 'payment_type', 'gender']\n",
    "quant_vars = ['monthly_charges','tenure']\n",
    "explore.explore_univariate(df, cat_vars, quant_vars)"
   ]
  },
  {
   "cell_type": "code",
   "execution_count": 15,
   "metadata": {},
   "outputs": [],
   "source": [
    "# cat_vars = ['churn', 'paperless_billing','contract_type','internet_service_type','multiple_lines',\n",
    "#             'streaming_movies','streaming_tv','tech_support','device_protection','online_backup',\n",
    "#             'online_security','phone_service', 'payment_type', 'gender','senior_citizen','partner',\n",
    "#             'dependents', ]\n",
    "# quant_vars = ['monthly_charges','tenure']\n",
    "# explore.explore_univariate(df, cat_vars, quant_vars)"
   ]
  },
  {
   "cell_type": "markdown",
   "metadata": {},
   "source": [
    "____________________________________________________________________________________________________"
   ]
  },
  {
   "cell_type": "markdown",
   "metadata": {},
   "source": [
    "###  Acquire Takeaways - Customer Characteristics:\n",
    "- 27% of all customers have churned\n",
    "- Gender is split 50/50, so it is not likely a driver of churn\n",
    "- 45% of all customers use some sort of automatic payments\n",
    "- 55% of all customers are on MTM contracts\n",
    "- 44% of all customers have dsl internet\n",
    "- 19% of all customers are senior citizens\n",
    "\n"
   ]
  },
  {
   "cell_type": "markdown",
   "metadata": {},
   "source": [
    "____________________________________________________________________________________________________"
   ]
  },
  {
   "cell_type": "markdown",
   "metadata": {},
   "source": [
    "### ```Preparing the Data Set```\n",
    "\n",
    "The function clean_telco(df):\n",
    "\n",
    "**Handled missing values:**\n",
    "- total_charges has 11 missing values\n",
    "- these missing values are customers with zero tenure, so it was reasonable to replace NaNs with zero\n",
    "\n",
    "**Changed data types:**\n",
    "- data types of all categorical variables were encoded or converted to bools and then to ints/floats for compatibility with modeling algorithms (except customer_id which is alpha-numeric)\n",
    "- total_charges, a continuous variable, was converted to a float64\n",
    "\n",
    "**Deleted gender column**\n",
    "- since visualizations shows gender is as an even split, neither can be identified as a driver of churn.\n",
    "\n",
    "**Deleted duplicate columns:** \n",
    "- payment_type, contract_type, internet_service_type \n",
    "\n",
    "**Renamed columns**\n",
    "- renamed several columns to clarify the boolean value\n",
    "\n",
    "**Engineered features:** \n",
    "- streamer: combines steaming content: streaming_tv and/or streaming_movies \n",
    "- auto-pay: combines both forms of automatic payment: auto bank draft & automatic credit card charge\n",
    "- single-line, multi-line and no_phone_service were combined into phone__service \n",
    "- tenure years: represent tenure months in years (tenure/12)\n",
    "- four distinct features to reflect partner/dependent relationships\n"
   ]
  },
  {
   "cell_type": "markdown",
   "metadata": {},
   "source": [
    "The data was cleaned by running the ```clean_telco()``` function which is found in ```prepare.py``` file found in our github repository. Step-by-step instructions for this process are included in the README.md file."
   ]
  },
  {
   "cell_type": "code",
   "execution_count": 16,
   "metadata": {},
   "outputs": [
    {
     "data": {
      "text/html": [
       "<div>\n",
       "<style scoped>\n",
       "    .dataframe tbody tr th:only-of-type {\n",
       "        vertical-align: middle;\n",
       "    }\n",
       "\n",
       "    .dataframe tbody tr th {\n",
       "        vertical-align: top;\n",
       "    }\n",
       "\n",
       "    .dataframe thead th {\n",
       "        text-align: right;\n",
       "    }\n",
       "</style>\n",
       "<table border=\"1\" class=\"dataframe\">\n",
       "  <thead>\n",
       "    <tr style=\"text-align: right;\">\n",
       "      <th></th>\n",
       "      <th>customer_id</th>\n",
       "      <th>senior_citizen</th>\n",
       "      <th>tenure_months</th>\n",
       "      <th>paperless_billing</th>\n",
       "      <th>monthly_charges</th>\n",
       "      <th>total_charges</th>\n",
       "      <th>tenure_years</th>\n",
       "      <th>phone_services</th>\n",
       "      <th>not_streamer</th>\n",
       "      <th>has_churned</th>\n",
       "      <th>...</th>\n",
       "      <th>e_Check</th>\n",
       "      <th>sends_check</th>\n",
       "      <th>has_auto_pay</th>\n",
       "      <th>dsl</th>\n",
       "      <th>fiber</th>\n",
       "      <th>no_internet</th>\n",
       "      <th>no_tech_support</th>\n",
       "      <th>no_online_security</th>\n",
       "      <th>no_online_backup</th>\n",
       "      <th>no_device_protection</th>\n",
       "    </tr>\n",
       "  </thead>\n",
       "  <tbody>\n",
       "    <tr>\n",
       "      <th>0</th>\n",
       "      <td>0003-MKNFE</td>\n",
       "      <td>0</td>\n",
       "      <td>9</td>\n",
       "      <td>0</td>\n",
       "      <td>59.9</td>\n",
       "      <td>542.40</td>\n",
       "      <td>0.75</td>\n",
       "      <td>2</td>\n",
       "      <td>1</td>\n",
       "      <td>0</td>\n",
       "      <td>...</td>\n",
       "      <td>0</td>\n",
       "      <td>1</td>\n",
       "      <td>0</td>\n",
       "      <td>1</td>\n",
       "      <td>0</td>\n",
       "      <td>0</td>\n",
       "      <td>1</td>\n",
       "      <td>1</td>\n",
       "      <td>1</td>\n",
       "      <td>1</td>\n",
       "    </tr>\n",
       "    <tr>\n",
       "      <th>1</th>\n",
       "      <td>0013-MHZWF</td>\n",
       "      <td>0</td>\n",
       "      <td>9</td>\n",
       "      <td>1</td>\n",
       "      <td>69.4</td>\n",
       "      <td>571.45</td>\n",
       "      <td>0.75</td>\n",
       "      <td>1</td>\n",
       "      <td>1</td>\n",
       "      <td>0</td>\n",
       "      <td>...</td>\n",
       "      <td>0</td>\n",
       "      <td>0</td>\n",
       "      <td>1</td>\n",
       "      <td>1</td>\n",
       "      <td>0</td>\n",
       "      <td>0</td>\n",
       "      <td>0</td>\n",
       "      <td>1</td>\n",
       "      <td>1</td>\n",
       "      <td>1</td>\n",
       "    </tr>\n",
       "    <tr>\n",
       "      <th>2</th>\n",
       "      <td>0015-UOCOJ</td>\n",
       "      <td>1</td>\n",
       "      <td>7</td>\n",
       "      <td>1</td>\n",
       "      <td>48.2</td>\n",
       "      <td>340.35</td>\n",
       "      <td>0.58</td>\n",
       "      <td>1</td>\n",
       "      <td>0</td>\n",
       "      <td>0</td>\n",
       "      <td>...</td>\n",
       "      <td>1</td>\n",
       "      <td>0</td>\n",
       "      <td>0</td>\n",
       "      <td>1</td>\n",
       "      <td>0</td>\n",
       "      <td>0</td>\n",
       "      <td>1</td>\n",
       "      <td>0</td>\n",
       "      <td>1</td>\n",
       "      <td>1</td>\n",
       "    </tr>\n",
       "    <tr>\n",
       "      <th>3</th>\n",
       "      <td>0023-HGHWL</td>\n",
       "      <td>1</td>\n",
       "      <td>1</td>\n",
       "      <td>1</td>\n",
       "      <td>25.1</td>\n",
       "      <td>25.10</td>\n",
       "      <td>0.08</td>\n",
       "      <td>0</td>\n",
       "      <td>0</td>\n",
       "      <td>1</td>\n",
       "      <td>...</td>\n",
       "      <td>1</td>\n",
       "      <td>0</td>\n",
       "      <td>0</td>\n",
       "      <td>1</td>\n",
       "      <td>0</td>\n",
       "      <td>0</td>\n",
       "      <td>1</td>\n",
       "      <td>1</td>\n",
       "      <td>1</td>\n",
       "      <td>1</td>\n",
       "    </tr>\n",
       "    <tr>\n",
       "      <th>4</th>\n",
       "      <td>0032-PGELS</td>\n",
       "      <td>0</td>\n",
       "      <td>1</td>\n",
       "      <td>0</td>\n",
       "      <td>30.5</td>\n",
       "      <td>30.50</td>\n",
       "      <td>0.08</td>\n",
       "      <td>0</td>\n",
       "      <td>0</td>\n",
       "      <td>1</td>\n",
       "      <td>...</td>\n",
       "      <td>0</td>\n",
       "      <td>0</td>\n",
       "      <td>1</td>\n",
       "      <td>1</td>\n",
       "      <td>0</td>\n",
       "      <td>0</td>\n",
       "      <td>1</td>\n",
       "      <td>0</td>\n",
       "      <td>1</td>\n",
       "      <td>1</td>\n",
       "    </tr>\n",
       "  </tbody>\n",
       "</table>\n",
       "<p>5 rows × 27 columns</p>\n",
       "</div>"
      ],
      "text/plain": [
       "  customer_id  senior_citizen  tenure_months  paperless_billing  \\\n",
       "0  0003-MKNFE               0              9                  0   \n",
       "1  0013-MHZWF               0              9                  1   \n",
       "2  0015-UOCOJ               1              7                  1   \n",
       "3  0023-HGHWL               1              1                  1   \n",
       "4  0032-PGELS               0              1                  0   \n",
       "\n",
       "   monthly_charges  total_charges  tenure_years  phone_services  not_streamer  \\\n",
       "0             59.9         542.40          0.75               2             1   \n",
       "1             69.4         571.45          0.75               1             1   \n",
       "2             48.2         340.35          0.58               1             0   \n",
       "3             25.1          25.10          0.08               0             0   \n",
       "4             30.5          30.50          0.08               0             0   \n",
       "\n",
       "   has_churned  ...  e_Check  sends_check  has_auto_pay  dsl  fiber  \\\n",
       "0            0  ...        0            1             0    1      0   \n",
       "1            0  ...        0            0             1    1      0   \n",
       "2            0  ...        1            0             0    1      0   \n",
       "3            1  ...        1            0             0    1      0   \n",
       "4            1  ...        0            0             1    1      0   \n",
       "\n",
       "   no_internet  no_tech_support  no_online_security  no_online_backup  \\\n",
       "0            0                1                   1                 1   \n",
       "1            0                0                   1                 1   \n",
       "2            0                1                   0                 1   \n",
       "3            0                1                   1                 1   \n",
       "4            0                1                   0                 1   \n",
       "\n",
       "   no_device_protection  \n",
       "0                     1  \n",
       "1                     1  \n",
       "2                     1  \n",
       "3                     1  \n",
       "4                     1  \n",
       "\n",
       "[5 rows x 27 columns]"
      ]
     },
     "execution_count": 16,
     "metadata": {},
     "output_type": "execute_result"
    }
   ],
   "source": [
    "telco_churn = prepare.clean_telco(df)\n",
    "telco_churn.head()\n"
   ]
  },
  {
   "cell_type": "code",
   "execution_count": 17,
   "metadata": {},
   "outputs": [
    {
     "data": {
      "text/plain": [
       "(7043, 27)"
      ]
     },
     "execution_count": 17,
     "metadata": {},
     "output_type": "execute_result"
    }
   ],
   "source": [
    "telco_churn.shape"
   ]
  },
  {
   "cell_type": "code",
   "execution_count": 18,
   "metadata": {},
   "outputs": [
    {
     "name": "stdout",
     "output_type": "stream",
     "text": [
      "<class 'pandas.core.frame.DataFrame'>\n",
      "Int64Index: 7043 entries, 0 to 7042\n",
      "Data columns (total 27 columns):\n",
      " #   Column                Non-Null Count  Dtype  \n",
      "---  ------                --------------  -----  \n",
      " 0   customer_id           7043 non-null   object \n",
      " 1   senior_citizen        7043 non-null   int64  \n",
      " 2   tenure_months         7043 non-null   int64  \n",
      " 3   paperless_billing     7043 non-null   int64  \n",
      " 4   monthly_charges       7043 non-null   float64\n",
      " 5   total_charges         7032 non-null   float64\n",
      " 6   tenure_years          7043 non-null   float64\n",
      " 7   phone_services        7043 non-null   int64  \n",
      " 8   not_streamer          7043 non-null   int64  \n",
      " 9   has_churned           7043 non-null   int64  \n",
      " 10  is_single_no_dep      7043 non-null   int64  \n",
      " 11  has_partner_no_dep    7043 non-null   int64  \n",
      " 12  is_single_with_dep    7043 non-null   int64  \n",
      " 13  family                7043 non-null   int64  \n",
      " 14  month_to_month        7043 non-null   int64  \n",
      " 15  one_year              7043 non-null   int64  \n",
      " 16  two_year              7043 non-null   int64  \n",
      " 17  e_Check               7043 non-null   int64  \n",
      " 18  sends_check           7043 non-null   int64  \n",
      " 19  has_auto_pay          7043 non-null   int64  \n",
      " 20  dsl                   7043 non-null   int64  \n",
      " 21  fiber                 7043 non-null   int64  \n",
      " 22  no_internet           7043 non-null   int64  \n",
      " 23  no_tech_support       7043 non-null   int64  \n",
      " 24  no_online_security    7043 non-null   int64  \n",
      " 25  no_online_backup      7043 non-null   int64  \n",
      " 26  no_device_protection  7043 non-null   int64  \n",
      "dtypes: float64(3), int64(23), object(1)\n",
      "memory usage: 1.5+ MB\n"
     ]
    }
   ],
   "source": [
    "telco_churn.info()"
   ]
  },
  {
   "cell_type": "code",
   "execution_count": 19,
   "metadata": {},
   "outputs": [],
   "source": [
    " train, validate, test = train_validate_test_split(telco_churn)"
   ]
  },
  {
   "cell_type": "markdown",
   "metadata": {},
   "source": [
    "____________________________________________________________________________________________________"
   ]
  },
  {
   "cell_type": "markdown",
   "metadata": {},
   "source": [
    "### ```Exploring the Data Set```"
   ]
  },
  {
   "cell_type": "code",
   "execution_count": 20,
   "metadata": {},
   "outputs": [],
   "source": [
    "# # Visualizations of individual columns of TRAIN data\n",
    "# cat_vars = ['auto_pay', 'e_Check', 'sends_check','month_to_month', 'one_year', 'two_year','dsl','fiber','no_internet','churn',\n",
    "#             'paperless_billing','streamer','no_tech_support', 'no_device_protection','no_online_backup','no_online_security',\n",
    "#             'phone_services', 'senior_citizen','is_single_no_dep','has_partner_no_dep','is_single_with_dep', 'family']\n",
    "# quant_vars = ['monthly_charges','tenure_months','tenure_years']\n",
    "# explore.explore_univariate(train, cat_vars, quant_vars)"
   ]
  },
  {
   "cell_type": "code",
   "execution_count": 21,
   "metadata": {},
   "outputs": [],
   "source": [
    "# cat_vars = ['has_auto_pay', 'e_Check', 'sends_check','month_to_month', 'one_year', 'two_year','dsl','fiber','no_internet',\n",
    "#             'paperless_billing','streamer','no_tech_support', 'no_device_protection','no_online_backup','no_online_security',\n",
    "#             'phone_services','senior_citizen','is_single_no_dep','has_partner_no_dep','is_single_with_dep', 'family']\n",
    "# quant_vars = ['monthly_charges','tenure_months','tenure_years']\n",
    "\n",
    "# explore.explore_bivariate(train, 'has_churned', cat_vars, quant_vars)"
   ]
  },
  {
   "cell_type": "code",
   "execution_count": null,
   "metadata": {},
   "outputs": [],
   "source": []
  },
  {
   "cell_type": "code",
   "execution_count": 23,
   "metadata": {},
   "outputs": [
    {
     "name": "stdout",
     "output_type": "stream",
     "text": [
      "has_auto_pay \n",
      "_____________________\n",
      "\n",
      "         chi2       p-value  degrees of freedom\n",
      "0  151.977733  6.407558e-35                   1\n",
      "\n",
      "observed:\n",
      " has_churned      0     1   All\n",
      "has_auto_pay                  \n",
      "0             1473   763  2236\n",
      "1             1424   283  1707\n",
      "All           2897  1046  3943\n",
      "\n",
      "expected:\n",
      "              0           1\n",
      "0  1642.833376  593.166624\n",
      "1  1254.166624  452.833376\n"
     ]
    },
    {
     "data": {
      "image/png": "[encoded data removed]",
      "text/plain": [
       "<Figure size 144x144 with 1 Axes>"
      ]
     },
     "metadata": {
      "needs_background": "light"
     },
     "output_type": "display_data"
    },
    {
     "name": "stdout",
     "output_type": "stream",
     "text": [
      "\n",
      "_____________________\n",
      "\n",
      "fiber \n",
      "_____________________\n",
      "\n",
      "         chi2       p-value  degrees of freedom\n",
      "0  362.467375  8.171942e-81                   1\n",
      "\n",
      "observed:\n",
      " has_churned     0     1   All\n",
      "fiber                        \n",
      "0            1879   321  2200\n",
      "1            1018   725  1743\n",
      "All          2897  1046  3943\n",
      "\n",
      "expected:\n",
      "              0           1\n",
      "0  1616.383464  583.616536\n",
      "1  1280.616536  462.383464\n"
     ]
    },
    {
     "data": {
      "image/png": "[encoded data removed]",
      "text/plain": [
       "<Figure size 144x144 with 1 Axes>"
      ]
     },
     "metadata": {
      "needs_background": "light"
     },
     "output_type": "display_data"
    },
    {
     "name": "stdout",
     "output_type": "stream",
     "text": [
      "\n",
      "_____________________\n",
      "\n",
      "no_tech_support \n",
      "_____________________\n",
      "\n",
      "         chi2        p-value  degrees of freedom\n",
      "0  467.879124  9.274470e-104                   1\n",
      "\n",
      "observed:\n",
      " has_churned         0     1   All\n",
      "no_tech_support                  \n",
      "0                1758   226  1984\n",
      "1                1139   820  1959\n",
      "All              2897  1046  3943\n",
      "\n",
      "expected:\n",
      "              0           1\n",
      "0  1457.683997  526.316003\n",
      "1  1439.316003  519.683997\n"
     ]
    },
    {
     "data": {
      "image/png": "[encoded data removed]",
      "text/plain": [
       "<Figure size 144x144 with 1 Axes>"
      ]
     },
     "metadata": {
      "needs_background": "light"
     },
     "output_type": "display_data"
    },
    {
     "name": "stdout",
     "output_type": "stream",
     "text": [
      "\n",
      "_____________________\n",
      "\n",
      "not_streamer \n",
      "_____________________\n",
      "\n",
      "        chi2       p-value  degrees of freedom\n",
      "0  26.148645  3.161189e-07                   1\n",
      "\n",
      "observed:\n",
      " has_churned      0     1   All\n",
      "not_streamer                  \n",
      "0             1532   456  1988\n",
      "1             1365   590  1955\n",
      "All           2897  1046  3943\n",
      "\n",
      "expected:\n",
      "              0           1\n",
      "0  1460.622876  527.377124\n",
      "1  1436.377124  518.622876\n"
     ]
    },
    {
     "data": {
      "image/png": "[encoded data removed]",
      "text/plain": [
       "<Figure size 144x144 with 1 Axes>"
      ]
     },
     "metadata": {
      "needs_background": "light"
     },
     "output_type": "display_data"
    },
    {
     "name": "stdout",
     "output_type": "stream",
     "text": [
      "\n",
      "_____________________\n",
      "\n",
      "monthly_charges \n",
      "____________________\n",
      "\n"
     ]
    },
    {
     "data": {
      "image/png": "[encoded data removed]",
      "text/plain": [
       "<Figure size 288x288 with 1 Axes>"
      ]
     },
     "metadata": {
      "needs_background": "light"
     },
     "output_type": "display_data"
    },
    {
     "name": "stdout",
     "output_type": "stream",
     "text": [
      "              count       mean        std    min      25%    50%      75%  \\\n",
      "has_churned                                                                 \n",
      "0            2897.0  61.176976  31.293724  18.25  25.0500  64.35  88.9500   \n",
      "1            1046.0  74.376052  24.624883  18.85  56.8125  79.50  94.0375   \n",
      "\n",
      "                max  \n",
      "has_churned          \n",
      "0            118.65  \n",
      "1            118.35   \n",
      "\n",
      "\n",
      "Mann-Whitney Test:\n",
      " MannwhitneyuResult(statistic=1149040.0, pvalue=4.103131725466243e-31)\n",
      "\n",
      "____________________\n",
      "\n",
      "tenure_months \n",
      "____________________\n",
      "\n"
     ]
    },
    {
     "data": {
      "image/png": "[encoded data removed]",
      "text/plain": [
       "<Figure size 288x288 with 1 Axes>"
      ]
     },
     "metadata": {
      "needs_background": "light"
     },
     "output_type": "display_data"
    },
    {
     "name": "stdout",
     "output_type": "stream",
     "text": [
      "              count       mean        std  min   25%   50%   75%   max\n",
      "has_churned                                                           \n",
      "0            2897.0  37.021056  24.067195  0.0  14.0  37.0  60.0  72.0\n",
      "1            1046.0  18.228489  19.391963  1.0   2.0  10.0  30.0  72.0 \n",
      "\n",
      "\n",
      "Mann-Whitney Test:\n",
      " MannwhitneyuResult(statistic=2215778.5, pvalue=2.6225178502743525e-109)\n",
      "\n",
      "____________________\n",
      "\n",
      "tenure_years \n",
      "____________________\n",
      "\n"
     ]
    },
    {
     "data": {
      "image/png": "[encoded data removed]",
      "text/plain": [
       "<Figure size 288x288 with 1 Axes>"
      ]
     },
     "metadata": {
      "needs_background": "light"
     },
     "output_type": "display_data"
    },
    {
     "name": "stdout",
     "output_type": "stream",
     "text": [
      "              count      mean       std   min   25%   50%  75%  max\n",
      "has_churned                                                        \n",
      "0            2897.0  3.085022  2.005771  0.00  1.17  3.08  5.0  6.0\n",
      "1            1046.0  1.518432  1.616508  0.08  0.17  0.83  2.5  6.0 \n",
      "\n",
      "\n",
      "Mann-Whitney Test:\n",
      " MannwhitneyuResult(statistic=2215778.5, pvalue=2.6225178502743525e-109)\n",
      "\n",
      "____________________\n",
      "\n"
     ]
    }
   ],
   "source": [
    "cat_vars = ['has_auto_pay', 'fiber', 'no_tech_support','not_streamer']\n",
    "quant_vars = ['monthly_charges','tenure_months','tenure_years']\n",
    "\n",
    "explore.explore_bivariate(train, 'churn', cat_vars, quant_vars)"
   ]
  },
  {
   "cell_type": "markdown",
   "metadata": {},
   "source": [
    "## Takeaways for Explore Visualizations:\n",
    "- Customers not on some type of auto pay churn more\n",
    "- Customers on fiber churn more\n",
    "- Customers without streaming services churn more\n",
    "- Customers without tech support churn more"
   ]
  },
  {
   "cell_type": "markdown",
   "metadata": {},
   "source": [
    "_______________________________________________________________________________________________________________________"
   ]
  },
  {
   "cell_type": "markdown",
   "metadata": {},
   "source": [
    "## Hypothesis Testing: \n",
    "    \n",
    "**1. Does whether a customer has tech support affect whether they will churn?**\n",
    "\n",
    "H*o*: There is no relationship between churn and tech support.   -- REJECT\n",
    "\n",
    "H*a*: There is a dependent relationship between tech support and churn.  \n"
   ]
  },
  {
   "cell_type": "markdown",
   "metadata": {},
   "source": [
    "#### Chi-Square Test\n",
    "- checking for relationship between two categorical variables. "
   ]
  },
  {
   "cell_type": "code",
   "execution_count": 24,
   "metadata": {},
   "outputs": [
    {
     "data": {
      "text/html": [
       "<div>\n",
       "<style scoped>\n",
       "    .dataframe tbody tr th:only-of-type {\n",
       "        vertical-align: middle;\n",
       "    }\n",
       "\n",
       "    .dataframe tbody tr th {\n",
       "        vertical-align: top;\n",
       "    }\n",
       "\n",
       "    .dataframe thead th {\n",
       "        text-align: right;\n",
       "    }\n",
       "</style>\n",
       "<table border=\"1\" class=\"dataframe\">\n",
       "  <thead>\n",
       "    <tr style=\"text-align: right;\">\n",
       "      <th>no_tech_support</th>\n",
       "      <th>0</th>\n",
       "      <th>1</th>\n",
       "    </tr>\n",
       "    <tr>\n",
       "      <th>has_churned</th>\n",
       "      <th></th>\n",
       "      <th></th>\n",
       "    </tr>\n",
       "  </thead>\n",
       "  <tbody>\n",
       "    <tr>\n",
       "      <th>0</th>\n",
       "      <td>3147</td>\n",
       "      <td>2027</td>\n",
       "    </tr>\n",
       "    <tr>\n",
       "      <th>1</th>\n",
       "      <td>423</td>\n",
       "      <td>1446</td>\n",
       "    </tr>\n",
       "  </tbody>\n",
       "</table>\n",
       "</div>"
      ],
      "text/plain": [
       "no_tech_support     0     1\n",
       "has_churned                \n",
       "0                3147  2027\n",
       "1                 423  1446"
      ]
     },
     "execution_count": 24,
     "metadata": {},
     "output_type": "execute_result"
    }
   ],
   "source": [
    "#crosstab for tech support and churn\n",
    "observed = pd.crosstab(telco_churn['has_churned'],telco_churn['no_tech_support'])\n",
    "observed"
   ]
  },
  {
   "cell_type": "code",
   "execution_count": 25,
   "metadata": {},
   "outputs": [
    {
     "name": "stdout",
     "output_type": "stream",
     "text": [
      "p-value is: 6.35740755126359e-176\n",
      "\n",
      "chi2 = 799.6724332372228\n",
      "\n",
      "Since p < .05, we reject the null hypothesis.\n"
     ]
    }
   ],
   "source": [
    "# Set our alpha\n",
    "alpha = .01\n",
    "\n",
    "#run chi2 test\n",
    "chi2, p, degf, expected = stats.chi2_contingency(observed)\n",
    "\n",
    "print(f'p-value is: {p}')\n",
    "print()\n",
    "print(f'chi2 = {chi2}')\n",
    "print()\n",
    "if p < alpha:\n",
    "    print(\"Since p < .05, we reject the null hypothesis.\")\n",
    "else:\n",
    "    print(\"We fail to reject the null\")"
   ]
  },
  {
   "cell_type": "markdown",
   "metadata": {},
   "source": [
    "_______________________________________________________________________________________________________________________"
   ]
  },
  {
   "cell_type": "markdown",
   "metadata": {},
   "source": [
    "## Hypothesis Test #2\n",
    "\n",
    "**Does having access to streaming content affect whether customers will churn?**\n",
    " \n",
    "H*o*: There is no relationship between streaming content and churn. -- REJECT\n",
    "\n",
    "H*a*: There is a dependent relationship between streaming content and churn."
   ]
  },
  {
   "cell_type": "markdown",
   "metadata": {},
   "source": [
    "#### Chi-Square Test\n",
    "- checking for relationship between two categorical variables. "
   ]
  },
  {
   "cell_type": "code",
   "execution_count": 28,
   "metadata": {},
   "outputs": [
    {
     "data": {
      "text/html": [
       "<div>\n",
       "<style scoped>\n",
       "    .dataframe tbody tr th:only-of-type {\n",
       "        vertical-align: middle;\n",
       "    }\n",
       "\n",
       "    .dataframe tbody tr th {\n",
       "        vertical-align: top;\n",
       "    }\n",
       "\n",
       "    .dataframe thead th {\n",
       "        text-align: right;\n",
       "    }\n",
       "</style>\n",
       "<table border=\"1\" class=\"dataframe\">\n",
       "  <thead>\n",
       "    <tr style=\"text-align: right;\">\n",
       "      <th>not_streamer</th>\n",
       "      <th>0</th>\n",
       "      <th>1</th>\n",
       "    </tr>\n",
       "    <tr>\n",
       "      <th>has_churned</th>\n",
       "      <th></th>\n",
       "      <th></th>\n",
       "    </tr>\n",
       "  </thead>\n",
       "  <tbody>\n",
       "    <tr>\n",
       "      <th>0</th>\n",
       "      <td>2736</td>\n",
       "      <td>2438</td>\n",
       "    </tr>\n",
       "    <tr>\n",
       "      <th>1</th>\n",
       "      <td>808</td>\n",
       "      <td>1061</td>\n",
       "    </tr>\n",
       "  </tbody>\n",
       "</table>\n",
       "</div>"
      ],
      "text/plain": [
       "not_streamer     0     1\n",
       "has_churned             \n",
       "0             2736  2438\n",
       "1              808  1061"
      ]
     },
     "execution_count": 28,
     "metadata": {},
     "output_type": "execute_result"
    }
   ],
   "source": [
    "#crosstab for auto_pay and churn\n",
    "observed_2 = pd.crosstab(telco_churn['has_churned'],telco_churn['not_streamer'])\n",
    "observed_2"
   ]
  },
  {
   "cell_type": "code",
   "execution_count": 29,
   "metadata": {},
   "outputs": [
    {
     "name": "stdout",
     "output_type": "stream",
     "text": [
      "p-value is: 1.0541667201283859e-12\n",
      "\n",
      "chi2 = 50.740591762430526\n",
      "\n",
      "Since p < .05, we reject the null hypothesis.\n"
     ]
    }
   ],
   "source": [
    "# Set our alpha\n",
    "alpha = .01\n",
    "\n",
    "#run chi2 test\n",
    "chi2, p, degf, expected = stats.chi2_contingency(observed_2)\n",
    "\n",
    "print(f'p-value is: {p}')\n",
    "print()\n",
    "print(f'chi2 = {chi2}')\n",
    "print()\n",
    "if p < alpha:\n",
    "    print(\"Since p < .05, we reject the null hypothesis.\")\n",
    "else:\n",
    "    print(\"We fail to reject the null\")"
   ]
  },
  {
   "cell_type": "markdown",
   "metadata": {},
   "source": [
    "_______________________________________________________________________________________________________________________"
   ]
  },
  {
   "cell_type": "markdown",
   "metadata": {},
   "source": [
    "## Hypothesis Test #3\n",
    "\n",
    "**Does having auto pay affect whether customers will churn?**\n",
    "\n",
    "H*o*: There is no relationship between auto-pay and rate of churn. \n",
    "\n",
    "H*a*: They are dependent.\n",
    "\n",
    "#### Chi-Square Test\n",
    "- checking for relationship between two categorical variables. \n"
   ]
  },
  {
   "cell_type": "code",
   "execution_count": 30,
   "metadata": {},
   "outputs": [
    {
     "data": {
      "text/html": [
       "<div>\n",
       "<style scoped>\n",
       "    .dataframe tbody tr th:only-of-type {\n",
       "        vertical-align: middle;\n",
       "    }\n",
       "\n",
       "    .dataframe tbody tr th {\n",
       "        vertical-align: top;\n",
       "    }\n",
       "\n",
       "    .dataframe thead th {\n",
       "        text-align: right;\n",
       "    }\n",
       "</style>\n",
       "<table border=\"1\" class=\"dataframe\">\n",
       "  <thead>\n",
       "    <tr style=\"text-align: right;\">\n",
       "      <th>has_auto_pay</th>\n",
       "      <th>0</th>\n",
       "      <th>1</th>\n",
       "    </tr>\n",
       "    <tr>\n",
       "      <th>has_churned</th>\n",
       "      <th></th>\n",
       "      <th></th>\n",
       "    </tr>\n",
       "  </thead>\n",
       "  <tbody>\n",
       "    <tr>\n",
       "      <th>0</th>\n",
       "      <td>2598</td>\n",
       "      <td>2576</td>\n",
       "    </tr>\n",
       "    <tr>\n",
       "      <th>1</th>\n",
       "      <td>1379</td>\n",
       "      <td>490</td>\n",
       "    </tr>\n",
       "  </tbody>\n",
       "</table>\n",
       "</div>"
      ],
      "text/plain": [
       "has_auto_pay     0     1\n",
       "has_churned             \n",
       "0             2598  2576\n",
       "1             1379   490"
      ]
     },
     "execution_count": 30,
     "metadata": {},
     "output_type": "execute_result"
    }
   ],
   "source": [
    "#crosstab for auto_pay and churn\n",
    "observed_3 = pd.crosstab(telco_churn['has_churned'],telco_churn['has_auto_pay'])\n",
    "observed_3"
   ]
  },
  {
   "cell_type": "code",
   "execution_count": 31,
   "metadata": {},
   "outputs": [
    {
     "name": "stdout",
     "output_type": "stream",
     "text": [
      "p-value is: 3.0278725722860343e-69\n",
      "\n",
      "chi2 = 309.3485572016954\n",
      "\n",
      "Since p < .05, we reject the null hypothesis.\n"
     ]
    }
   ],
   "source": [
    "# Set our alpha\n",
    "alpha = .01\n",
    "\n",
    "#run chi2 test\n",
    "chi2, p, degf, expected = stats.chi2_contingency(observed_3)\n",
    "\n",
    "print(f'p-value is: {p}')\n",
    "print()\n",
    "print(f'chi2 = {chi2}')\n",
    "print()\n",
    "if p < alpha:\n",
    "    print(\"Since p < .05, we reject the null hypothesis.\")\n",
    "else:\n",
    "    print(\"We fail to reject the null\")"
   ]
  },
  {
   "cell_type": "markdown",
   "metadata": {},
   "source": [
    "_______________________________________________________________________________________________________________________"
   ]
  },
  {
   "cell_type": "markdown",
   "metadata": {},
   "source": [
    "### ```Modeling & Evaluating```"
   ]
  },
  {
   "cell_type": "markdown",
   "metadata": {},
   "source": [
    "### Splitting Data for Modeling"
   ]
  },
  {
   "cell_type": "code",
   "execution_count": 32,
   "metadata": {},
   "outputs": [],
   "source": [
    "# Splitting out target variable from X_train\n",
    "\n",
    "features = ['no_tech_support', 'has_auto_pay','month_to_month','streamer','fiber']\n",
    "target = ['has_churned']\n",
    "\n",
    "# dropped 'has_churned' because it is target variable\n",
    "# dropped 'customer_id' because it is alpha-numeric\n",
    "X_train = train.drop(columns = ['has_churned', 'total_charges', 'customer_id'],axis=1)\n",
    "X_validate = validate.drop(columns = ['has_churned', 'total_charges', 'customer_id'],axis=1)\n",
    "X_test = test.drop(columns = ['has_churned'],axis=1)\n",
    "\n",
    "# Establishing target as y_train -- 1 column only (our target variable)\n",
    "y_train = train.has_churned\n",
    "y_validate = validate.has_churned\n",
    "y_test = test.has_churned"
   ]
  },
  {
   "cell_type": "markdown",
   "metadata": {},
   "source": [
    "_______________________________________________________________________________________________________________________"
   ]
  },
  {
   "cell_type": "markdown",
   "metadata": {},
   "source": [
    "### Establishing a Baseline Accuracy"
   ]
  },
  {
   "cell_type": "code",
   "execution_count": 33,
   "metadata": {},
   "outputs": [
    {
     "data": {
      "text/plain": [
       "0    2897\n",
       "1    1046\n",
       "Name: has_churned, dtype: int64"
      ]
     },
     "execution_count": 33,
     "metadata": {},
     "output_type": "execute_result"
    }
   ],
   "source": [
    "y_train.value_counts()"
   ]
  },
  {
   "cell_type": "code",
   "execution_count": 34,
   "metadata": {},
   "outputs": [],
   "source": [
    "baseline = pd.DataFrame(y_train)\n",
    "baseline['baseline'] = 0\n",
    "\n",
    "# baseline.columns = ['actual','baseline']\n",
    "# baseline.head()"
   ]
  },
  {
   "cell_type": "code",
   "execution_count": 35,
   "metadata": {},
   "outputs": [],
   "source": [
    "# cross tab of our baseline versus actual\n",
    "# pd.crosstab(baseline['baseline'], baseline['actual'])"
   ]
  },
  {
   "cell_type": "code",
   "execution_count": 36,
   "metadata": {},
   "outputs": [
    {
     "name": "stdout",
     "output_type": "stream",
     "text": [
      "The baseline accuracy is 73.47 percent.\n"
     ]
    }
   ],
   "source": [
    "# let's calculate the accuracy\n",
    "# positive will be not churned\n",
    "# (TP + TN) / (TP + TN + FP + FN)\n",
    "\n",
    "#predicting not churned and the customer has not churned\n",
    "TP = 2897\n",
    "\n",
    "#predicting not churned and the customer has churned\n",
    "FP = 1046\n",
    "\n",
    "#predicting the customer has churned and they have churned\n",
    "TN = 0\n",
    "\n",
    "#predicting the customer has churned and they have not churned\n",
    "FN = 0\n",
    "\n",
    "\n",
    "base_acc = (TP + TN) / (TP + TN + FP + FN)\n",
    "\n",
    "print(\"The baseline accuracy is\",round(base_acc * 100, 2),\"percent.\")"
   ]
  },
  {
   "cell_type": "markdown",
   "metadata": {},
   "source": [
    "_______________________________________________________________________________________________________________________"
   ]
  },
  {
   "cell_type": "markdown",
   "metadata": {},
   "source": [
    "## Logistic Regression Models"
   ]
  },
  {
   "cell_type": "markdown",
   "metadata": {},
   "source": [
    "#### LR Model 1\n",
    "\n",
    "- features = ['no_tech_support', 'has_auto_pay','month_to_month','streamer','fiber']\n",
    "- target = ['has_churned']\n",
    "- Accuracy of Logistic Regression classifier on training set: 77%\n",
    "- Baseline = 73%\n",
    "\n",
    "\n"
   ]
  },
  {
   "cell_type": "code",
   "execution_count": 39,
   "metadata": {},
   "outputs": [
    {
     "name": "stdout",
     "output_type": "stream",
     "text": [
      "Baseline is 0.73\n",
      "Accuracy of Logistic Regression classifier on training set: 0.77\n"
     ]
    }
   ],
   "source": [
    "# Create the logistic regression\n",
    "logit = LogisticRegression(random_state=123)\n",
    "\n",
    "# specify the target and features we're using\n",
    "features = ['no_tech_support', 'has_auto_pay','month_to_month','not_streamer','fiber']\n",
    "target = ['has_churned']\n",
    "\n",
    "# Fit a model using only these specified features\n",
    "# logit.fit(X_train[[\"age\", \"pclass\", \"fare\"]], y_train)\n",
    "logit.fit(X_train[features], y_train)\n",
    "\n",
    "# Since we .fit on a subset, we .predict on that same subset of features\n",
    "y_pred = logit.predict(X_train[features])\n",
    "\n",
    "print(\"Baseline is\", round(base_acc, 2))\n",
    "print('Accuracy of Logistic Regression classifier on training set: {:.2f}'\n",
    "     .format(logit.score(X_train[features], y_train)))"
   ]
  },
  {
   "cell_type": "code",
   "execution_count": 40,
   "metadata": {},
   "outputs": [],
   "source": [
    "# make prediction\n",
    "y_pred = logit.predict(X_train[features])"
   ]
  },
  {
   "cell_type": "code",
   "execution_count": 41,
   "metadata": {},
   "outputs": [
    {
     "name": "stdout",
     "output_type": "stream",
     "text": [
      "              precision    recall  f1-score   support\n",
      "\n",
      "           0       0.83      0.87      0.85      2897\n",
      "           1       0.58      0.50      0.54      1046\n",
      "\n",
      "    accuracy                           0.77      3943\n",
      "   macro avg       0.71      0.69      0.70      3943\n",
      "weighted avg       0.76      0.77      0.77      3943\n",
      "\n"
     ]
    }
   ],
   "source": [
    "#classification report\n",
    "print(classification_report(y_train, y_pred))"
   ]
  },
  {
   "cell_type": "markdown",
   "metadata": {},
   "source": [
    "#### Model 2\n",
    "\n",
    "- features = ['no_tech_support', 'has_auto_pay','month_to_month','fiber']\n",
    "- target = ['has_churned']\n",
    "- Accuracy of Logistic Regression classifier on training set: 78%\n",
    "- Baseline = 73%\n",
    "\n",
    "\n"
   ]
  },
  {
   "cell_type": "code",
   "execution_count": 42,
   "metadata": {},
   "outputs": [
    {
     "name": "stdout",
     "output_type": "stream",
     "text": [
      "Baseline is 0.73\n",
      "Accuracy of Logistic Regression classifier on training set: 0.78\n"
     ]
    }
   ],
   "source": [
    "# Create the logistic regression\n",
    "logit2 = LogisticRegression(random_state=123)\n",
    "\n",
    "# specify the target and features we're using\n",
    "features2 = ['no_tech_support', 'has_auto_pay','month_to_month','fiber']\n",
    "target = ['has_churned']\n",
    "\n",
    "# Fit a model using only these specified features\n",
    "logit2.fit(X_train[features2], y_train)\n",
    "\n",
    "# Since we .fit on a subset, we .predict on that same subset of features\n",
    "y_pred2 = logit2.predict(X_train[features2])\n",
    "\n",
    "print(\"Baseline is\", round(base_acc, 2))\n",
    "print('Accuracy of Logistic Regression classifier on training set: {:.2f}'\n",
    "     .format(logit2.score(X_train[features2], y_train)))\n"
   ]
  },
  {
   "cell_type": "code",
   "execution_count": 43,
   "metadata": {},
   "outputs": [],
   "source": [
    "# create predictions\n",
    "y_pred2 = logit2.predict(X_train[features2])"
   ]
  },
  {
   "cell_type": "code",
   "execution_count": 44,
   "metadata": {},
   "outputs": [
    {
     "name": "stdout",
     "output_type": "stream",
     "text": [
      "              precision    recall  f1-score   support\n",
      "\n",
      "           0       0.81      0.90      0.85      2897\n",
      "           1       0.61      0.43      0.50      1046\n",
      "\n",
      "    accuracy                           0.78      3943\n",
      "   macro avg       0.71      0.67      0.68      3943\n",
      "weighted avg       0.76      0.78      0.76      3943\n",
      "\n"
     ]
    }
   ],
   "source": [
    "#classification report\n",
    "print(classification_report(y_train, y_pred2))"
   ]
  },
  {
   "cell_type": "markdown",
   "metadata": {},
   "source": [
    "_______________________________________________________________________________________________________________________"
   ]
  },
  {
   "cell_type": "markdown",
   "metadata": {},
   "source": [
    "## Decision Tree"
   ]
  },
  {
   "cell_type": "markdown",
   "metadata": {},
   "source": [
    "#### DT Model 1\n",
    "\n",
    "- features = ['no_tech_support', 'has_auto_pay','month_to_month','not_streamer','fiber']\n",
    "- target = ['has_churned']\n",
    "- Accuracy of Decision Tree classifier on training set: 77%\n",
    "- Baseline = 73%\n",
    "\n"
   ]
  },
  {
   "cell_type": "code",
   "execution_count": 46,
   "metadata": {},
   "outputs": [
    {
     "data": {
      "text/plain": [
       "DecisionTreeClassifier(max_depth=3)"
      ]
     },
     "execution_count": 46,
     "metadata": {},
     "output_type": "execute_result"
    }
   ],
   "source": [
    "# Generate a blank, decision tree model\n",
    "clf1 = DecisionTreeClassifier(max_depth=3)\n",
    "\n",
    "#Specify the features\n",
    "features = ['no_tech_support', 'has_auto_pay','month_to_month','not_streamer','fiber']\n",
    "\n",
    "# Train(fit) the model\n",
    "dt1 = clf1.fit(X_train[features], y_train)\n",
    "dt1"
   ]
  },
  {
   "cell_type": "code",
   "execution_count": 47,
   "metadata": {},
   "outputs": [
    {
     "data": {
      "text/plain": [
       "'churn_decision_tree.pdf'"
      ]
     },
     "execution_count": 47,
     "metadata": {},
     "output_type": "execute_result"
    }
   ],
   "source": [
    "# Visualize the model so it can explain itself!\n",
    "dot_data = export_graphviz(clf1, feature_names= features, rounded=True, filled=True, out_file=None)\n",
    "graph = graphviz.Source(dot_data) \n",
    "\n",
    "graph.render('churn_decision_tree', view=True)"
   ]
  },
  {
   "cell_type": "code",
   "execution_count": 48,
   "metadata": {},
   "outputs": [
    {
     "name": "stdout",
     "output_type": "stream",
     "text": [
      "Accuracy of model with all features: 0.7740299264519401\n",
      "\n",
      "The confusion matrix:\n",
      " [[2522  375]\n",
      " [ 519  527]]\n",
      "\n",
      "Classification report:\n",
      "               precision    recall  f1-score   support\n",
      "\n",
      "           0       0.83      0.87      0.85      2897\n",
      "           1       0.58      0.50      0.54      1046\n",
      "\n",
      "    accuracy                           0.77      3943\n",
      "   macro avg       0.71      0.69      0.70      3943\n",
      "weighted avg       0.76      0.77      0.77      3943\n",
      "\n"
     ]
    }
   ],
   "source": [
    "y_pred3 = clf1.predict(X_train[features])\n",
    "y_pred3_proba = clf1.predict_proba(X_train[features])\n",
    "\n",
    "#evaluate metrics\n",
    "print('Accuracy of model with all features:', clf1.score(X_train[features], y_train))\n",
    "print('\\nThe confusion matrix:\\n',confusion_matrix(y_train, y_pred))\n",
    "print('\\nClassification report:\\n',classification_report(y_train, y_pred))"
   ]
  },
  {
   "cell_type": "code",
   "execution_count": 49,
   "metadata": {},
   "outputs": [
    {
     "data": {
      "text/plain": [
       "0.7740299264519401"
      ]
     },
     "execution_count": 49,
     "metadata": {},
     "output_type": "execute_result"
    }
   ],
   "source": [
    "# Model score on accuracy:\n",
    "accuracy = clf1.score(X_train[features],y_train)\n",
    "accuracy"
   ]
  },
  {
   "cell_type": "markdown",
   "metadata": {},
   "source": [
    "_______________________________________________________________________________________________________________________"
   ]
  },
  {
   "cell_type": "markdown",
   "metadata": {},
   "source": [
    "## K-Nearest Neighbor"
   ]
  },
  {
   "cell_type": "markdown",
   "metadata": {},
   "source": [
    "#### KNN Model 1\n",
    "\n",
    "- features = ['no_tech_support', 'has_auto_pay','month_to_month','not_streamer','fiber']\n",
    "- target = ['has_churned']\n",
    "- Accuracy of KNN on training set: 74% \n",
    "- Baseline = 73%\n",
    "\n"
   ]
  },
  {
   "cell_type": "code",
   "execution_count": 50,
   "metadata": {},
   "outputs": [],
   "source": [
    "#making the model\n",
    "knn = KNeighborsClassifier()"
   ]
  },
  {
   "cell_type": "code",
   "execution_count": 51,
   "metadata": {},
   "outputs": [],
   "source": [
    "#Specify the features\n",
    "features = ['no_tech_support', 'has_auto_pay','month_to_month','not_streamer','fiber']\n",
    "\n",
    "#train/fit the model\n",
    "\n",
    "knn_fit = knn.fit(X_train[features], y_train)"
   ]
  },
  {
   "cell_type": "code",
   "execution_count": 52,
   "metadata": {},
   "outputs": [],
   "source": [
    "# evaluating the model\n",
    "y_pred = knn.predict(X_train[features])"
   ]
  },
  {
   "cell_type": "code",
   "execution_count": 53,
   "metadata": {},
   "outputs": [
    {
     "name": "stdout",
     "output_type": "stream",
     "text": [
      "Model accuracy is 0.759\n"
     ]
    }
   ],
   "source": [
    "# check model accuracy\n",
    "accuracy = knn.score(X_train[features], y_train)\n",
    "print(f'Model accuracy is {accuracy:.3}')"
   ]
  },
  {
   "cell_type": "code",
   "execution_count": 54,
   "metadata": {},
   "outputs": [
    {
     "name": "stdout",
     "output_type": "stream",
     "text": [
      "              precision    recall  f1-score   support\n",
      "\n",
      "           0       0.79      0.91      0.85      2897\n",
      "           1       0.58      0.34      0.43      1046\n",
      "\n",
      "    accuracy                           0.76      3943\n",
      "   macro avg       0.68      0.63      0.64      3943\n",
      "weighted avg       0.74      0.76      0.74      3943\n",
      "\n"
     ]
    }
   ],
   "source": [
    "# Classification metrics report\n",
    "# y_train is the actual labels for the target variable\n",
    "# y_pred is the predictions that the model makes based off our X features\n",
    "\n",
    "print(classification_report(y_train, y_pred))"
   ]
  },
  {
   "cell_type": "markdown",
   "metadata": {},
   "source": [
    "_______________________________________________________________________________________________________________________"
   ]
  },
  {
   "cell_type": "markdown",
   "metadata": {},
   "source": [
    "#### KNN Model 2\n",
    "- k = 20\n",
    "- features = ['no_tech_support', 'has_auto_pay','month_to_month','not_streamer','fiber']\n",
    "- target = ['has_churned']\n",
    "- Accuracy of KNN on training set: 74% \n",
    "- Baseline = 73%\n",
    "\n"
   ]
  },
  {
   "cell_type": "code",
   "execution_count": 55,
   "metadata": {},
   "outputs": [],
   "source": [
    "#making the model\n",
    "k = 20\n",
    "knn_20 = KNeighborsClassifier(n_neighbors=k)\n"
   ]
  },
  {
   "cell_type": "code",
   "execution_count": 56,
   "metadata": {},
   "outputs": [],
   "source": [
    "#Specify the features\n",
    "features20 = ['no_tech_support', 'has_auto_pay','month_to_month','not_streamer','fiber']\n",
    "\n",
    "#train/fit the model\n",
    "\n",
    "knn_20_fit = knn_20.fit(X_train[features20], y_train)"
   ]
  },
  {
   "cell_type": "code",
   "execution_count": 57,
   "metadata": {},
   "outputs": [],
   "source": [
    "# evaluating the model\n",
    "y_pred_20 = knn_20_fit.predict(X_train[features20])"
   ]
  },
  {
   "cell_type": "code",
   "execution_count": 58,
   "metadata": {},
   "outputs": [
    {
     "name": "stdout",
     "output_type": "stream",
     "text": [
      "Model accuracy is 0.759\n"
     ]
    }
   ],
   "source": [
    "# check model accuracy\n",
    "accuracy_20 = knn_20_fit.score(X_train[features20], y_train)\n",
    "print(f'Model accuracy is {accuracy:.3}')"
   ]
  },
  {
   "cell_type": "code",
   "execution_count": 59,
   "metadata": {},
   "outputs": [
    {
     "name": "stdout",
     "output_type": "stream",
     "text": [
      "              precision    recall  f1-score   support\n",
      "\n",
      "           0       0.79      0.91      0.85      2897\n",
      "           1       0.58      0.34      0.43      1046\n",
      "\n",
      "    accuracy                           0.76      3943\n",
      "   macro avg       0.68      0.63      0.64      3943\n",
      "weighted avg       0.74      0.76      0.74      3943\n",
      "\n"
     ]
    }
   ],
   "source": [
    "# Classification metrics report\n",
    "# y_train is the actual labels for the target variable\n",
    "# y_pred is the predictions that the model makes based off our X features\n",
    "\n",
    "print(classification_report(y_train, y_pred))"
   ]
  },
  {
   "cell_type": "markdown",
   "metadata": {},
   "source": [
    "_______________________________________________________________________________________________________________________"
   ]
  },
  {
   "cell_type": "markdown",
   "metadata": {},
   "source": [
    "### Random Forest Model:\n",
    "\n",
    "### RF Model 1\n",
    "\n",
    "- features = ['no_tech_support', 'has_auto_pay','month_to_month','streamer','fiber']\n",
    "- target = ['has_churned']\n",
    "- Accuracy of Random Forest Classifier on training set: 78%\n",
    "- Baseline = 73%\n",
    "\n",
    "\n"
   ]
  },
  {
   "cell_type": "code",
   "execution_count": 60,
   "metadata": {},
   "outputs": [],
   "source": [
    "# Features to be used in the model\n",
    "features = ['no_tech_support', 'has_auto_pay','month_to_month','not_streamer','fiber']\n",
    "\n",
    "rf = RandomForestClassifier(bootstrap=True, \n",
    "                            class_weight=None, \n",
    "                            criterion='gini',\n",
    "                            min_samples_leaf=3,\n",
    "                            n_estimators=100,\n",
    "                            max_depth=3, \n",
    "                            random_state=123)"
   ]
  },
  {
   "cell_type": "code",
   "execution_count": 61,
   "metadata": {},
   "outputs": [
    {
     "data": {
      "text/plain": [
       "RandomForestClassifier(max_depth=3, min_samples_leaf=3, random_state=123)"
      ]
     },
     "execution_count": 61,
     "metadata": {},
     "output_type": "execute_result"
    }
   ],
   "source": [
    "# Fit the model \n",
    "rf.fit(X_train[features], y_train)"
   ]
  },
  {
   "cell_type": "code",
   "execution_count": 62,
   "metadata": {},
   "outputs": [
    {
     "name": "stdout",
     "output_type": "stream",
     "text": [
      "[0.24035193 0.05178433 0.47898289 0.01450963 0.21437122]\n"
     ]
    }
   ],
   "source": [
    "# Feature Importance\n",
    "print(rf.feature_importances_)\n",
    "\n",
    "# Make Predictions\n",
    "y_pred = rf.predict(X_train[features])\n",
    "\n",
    "# Estimate probability\n",
    "y_pred_proba = rf.predict_proba(X_train[features])"
   ]
  },
  {
   "cell_type": "code",
   "execution_count": 63,
   "metadata": {},
   "outputs": [
    {
     "name": "stdout",
     "output_type": "stream",
     "text": [
      "              precision    recall  f1-score   support\n",
      "\n",
      "           0       0.81      0.90      0.85      2897\n",
      "           1       0.61      0.43      0.50      1046\n",
      "\n",
      "    accuracy                           0.78      3943\n",
      "   macro avg       0.71      0.67      0.68      3943\n",
      "weighted avg       0.76      0.78      0.76      3943\n",
      "\n"
     ]
    }
   ],
   "source": [
    "print(classification_report(y_train, y_pred))"
   ]
  },
  {
   "cell_type": "code",
   "execution_count": 64,
   "metadata": {},
   "outputs": [
    {
     "name": "stdout",
     "output_type": "stream",
     "text": [
      "Accuracy of random forest classifier on training set: 0.78\n",
      "Confusion Matrix:\n",
      "[[2608  289]\n",
      " [ 596  450]]\n"
     ]
    }
   ],
   "source": [
    "print('Accuracy of random forest classifier on training set: {:.2f}'\n",
    "     .format(rf.score(X_train[features], y_train)))\n",
    "print('Confusion Matrix:')\n",
    "print(confusion_matrix(y_train, y_pred))"
   ]
  },
  {
   "cell_type": "markdown",
   "metadata": {},
   "source": [
    "_______________________________________________________________________________________________________________________"
   ]
  },
  {
   "cell_type": "markdown",
   "metadata": {},
   "source": [
    "### Run best performing model on out-of-sample data (Validate)\n",
    "\n",
    "#### LR Model 1\n",
    "\n",
    "- features = ['no_tech_support', 'has_auto_pay','month_to_month','streamer','fiber']\n",
    "- target = ['has_churned']\n",
    "- Accuracy of Logistic Regression Classifier on training set: 77%\n",
    "- Accuracy of Logistic Regression Classifier on validate set: 78%\n",
    "- Baseline = 73%\n",
    "\n",
    "\n"
   ]
  },
  {
   "cell_type": "code",
   "execution_count": 65,
   "metadata": {},
   "outputs": [
    {
     "name": "stdout",
     "output_type": "stream",
     "text": [
      "Model 1: solver = lbfgs, c = 1\n",
      "Accuracy: 0.77\n",
      "[[1078  164]\n",
      " [ 219  230]]\n",
      "              precision    recall  f1-score   support\n",
      "\n",
      "           0       0.83      0.87      0.85      1242\n",
      "           1       0.58      0.51      0.55       449\n",
      "\n",
      "    accuracy                           0.77      1691\n",
      "   macro avg       0.71      0.69      0.70      1691\n",
      "weighted avg       0.77      0.77      0.77      1691\n",
      "\n"
     ]
    }
   ],
   "source": [
    "# specify the target and features we're using\n",
    "features = ['no_tech_support', 'has_auto_pay','month_to_month','not_streamer','fiber']\n",
    "\n",
    "# Make prediction for validate dataset\n",
    "y_pred_validate = logit.predict(X_validate[features])\n",
    "\n",
    "\n",
    "print(\"Model 1: solver = lbfgs, c = 1\")\n",
    "\n",
    "print('Accuracy: {:.2f}'.format(logit.score(X_validate[features], y_validate)))\n",
    "\n",
    "print(confusion_matrix(y_validate, y_pred_validate))\n",
    "\n",
    "print(classification_report(y_validate, y_pred_validate))"
   ]
  },
  {
   "cell_type": "markdown",
   "metadata": {},
   "source": [
    "_______________________________________________________________________________________________________________________"
   ]
  },
  {
   "cell_type": "markdown",
   "metadata": {},
   "source": [
    "### Random Forest Model:\n",
    "\n",
    "### RF Model on Validate Set\n",
    "\n",
    "- features = ['no_tech_support', 'has_auto_pay','month_to_month','streamer','fiber']\n",
    "- target = ['has_churned']\n",
    "- Accuracy of Random Forest Classifier on training set: 78%\n",
    "- Accuracy of Random Forest Classifier on validate set: 77%\n",
    "- Baseline = 73%\n",
    "\n",
    "\n"
   ]
  },
  {
   "cell_type": "code",
   "execution_count": 66,
   "metadata": {},
   "outputs": [],
   "source": [
    "# Features to be used in the model\n",
    "features = ['no_tech_support', 'has_auto_pay','month_to_month','not_streamer','fiber']\n",
    "\n",
    "rf2 = RandomForestClassifier(bootstrap=True, \n",
    "                            class_weight=None, \n",
    "                            criterion='gini',\n",
    "                            min_samples_leaf=3,\n",
    "                            n_estimators=100,\n",
    "                            max_depth=3, \n",
    "                            random_state=123)"
   ]
  },
  {
   "cell_type": "code",
   "execution_count": 67,
   "metadata": {},
   "outputs": [
    {
     "data": {
      "text/plain": [
       "RandomForestClassifier(max_depth=3, min_samples_leaf=3, random_state=123)"
      ]
     },
     "execution_count": 67,
     "metadata": {},
     "output_type": "execute_result"
    }
   ],
   "source": [
    "# Fit the model \n",
    "rf2.fit(X_validate[features], y_validate)"
   ]
  },
  {
   "cell_type": "code",
   "execution_count": 68,
   "metadata": {},
   "outputs": [
    {
     "name": "stdout",
     "output_type": "stream",
     "text": [
      "[0.15346161 0.07189952 0.53723096 0.01680258 0.22060532]\n"
     ]
    }
   ],
   "source": [
    "# Feature Importance\n",
    "print(rf2.feature_importances_)\n",
    "\n",
    "# Make Predictions\n",
    "y_pred2 = rf2.predict(X_validate[features])\n",
    "\n",
    "# Estimate probability\n",
    "y_pred2_proba = rf2.predict_proba(X_validate[features])"
   ]
  },
  {
   "cell_type": "code",
   "execution_count": 69,
   "metadata": {},
   "outputs": [
    {
     "name": "stdout",
     "output_type": "stream",
     "text": [
      "              precision    recall  f1-score   support\n",
      "\n",
      "           0       0.81      0.89      0.85      1242\n",
      "           1       0.59      0.43      0.50       449\n",
      "\n",
      "    accuracy                           0.77      1691\n",
      "   macro avg       0.70      0.66      0.68      1691\n",
      "weighted avg       0.75      0.77      0.76      1691\n",
      "\n"
     ]
    }
   ],
   "source": [
    "print(classification_report(y_validate, y_pred2))"
   ]
  },
  {
   "cell_type": "code",
   "execution_count": 70,
   "metadata": {},
   "outputs": [
    {
     "name": "stdout",
     "output_type": "stream",
     "text": [
      "Accuracy of random forest classifier on validate set: 0.77\n",
      "Confusion Matrix:\n",
      "[[1108  134]\n",
      " [ 254  195]]\n"
     ]
    }
   ],
   "source": [
    "print('Accuracy of random forest classifier on validate set: {:.2f}'\n",
    "     .format(rf2.score(X_validate[features], y_validate)))\n",
    "print('Confusion Matrix:')\n",
    "print(confusion_matrix(y_validate, y_pred2))"
   ]
  },
  {
   "cell_type": "markdown",
   "metadata": {},
   "source": [
    "_______________________________________________________________________________________________________________________"
   ]
  },
  {
   "cell_type": "markdown",
   "metadata": {},
   "source": [
    "## TEST DATA SET\n",
    "\n",
    "### Random Forest Model on Test Set\n",
    "\n",
    "- features = ['no_tech_support', 'has_auto_pay','month_to_month','streamer','fiber']\n",
    "- target = ['has_churned']\n",
    "- Accuracy of Random Forest Classifier on training set: 78%\n",
    "- Accuracy of Random Forest Classifier on validate set: 77%\n",
    "- **Accuracy of Random Forest Classifier on test set: 79%**\n",
    "- Baseline = 73%\n",
    "\n",
    "\n"
   ]
  },
  {
   "cell_type": "code",
   "execution_count": 71,
   "metadata": {},
   "outputs": [],
   "source": [
    "# Features to be used in the model\n",
    "features = ['no_tech_support', 'has_auto_pay','month_to_month','not_streamer','fiber']\n",
    "\n",
    "rf3 = RandomForestClassifier(bootstrap=True, \n",
    "                            class_weight=None, \n",
    "                            criterion='gini',\n",
    "                            min_samples_leaf=3,\n",
    "                            n_estimators=100,\n",
    "                            max_depth=3, \n",
    "                            random_state=123)"
   ]
  },
  {
   "cell_type": "code",
   "execution_count": 72,
   "metadata": {},
   "outputs": [
    {
     "data": {
      "text/plain": [
       "RandomForestClassifier(max_depth=3, min_samples_leaf=3, random_state=123)"
      ]
     },
     "execution_count": 72,
     "metadata": {},
     "output_type": "execute_result"
    }
   ],
   "source": [
    "# Fit the model \n",
    "rf3.fit(X_test[features], y_test)"
   ]
  },
  {
   "cell_type": "code",
   "execution_count": 73,
   "metadata": {},
   "outputs": [
    {
     "name": "stdout",
     "output_type": "stream",
     "text": [
      "[0.21176014 0.06900481 0.50588863 0.01925913 0.19408729]\n"
     ]
    }
   ],
   "source": [
    "# Feature Importance\n",
    "print(rf3.feature_importances_)\n",
    "\n",
    "# Make Predictions\n",
    "y_pred3 = rf3.predict(X_test[features])\n",
    "\n",
    "# Estimate probability\n",
    "y_pred3_proba = rf3.predict_proba(X_test[features])"
   ]
  },
  {
   "cell_type": "code",
   "execution_count": 87,
   "metadata": {},
   "outputs": [
    {
     "name": "stdout",
     "output_type": "stream",
     "text": [
      "              precision    recall  f1-score   support\n",
      "\n",
      "           0       0.81      0.89      0.85      1242\n",
      "           1       0.59      0.43      0.50       449\n",
      "\n",
      "    accuracy                           0.77      1691\n",
      "   macro avg       0.70      0.66      0.68      1691\n",
      "weighted avg       0.75      0.77      0.76      1691\n",
      "\n"
     ]
    }
   ],
   "source": [
    "print(classification_report(y_validate, y_pred2))"
   ]
  },
  {
   "cell_type": "code",
   "execution_count": 88,
   "metadata": {},
   "outputs": [],
   "source": [
    "# Create new dataframe of test data customer (probability & prediction) to write to csv\n",
    "test_churn = X_test.copy()"
   ]
  },
  {
   "cell_type": "code",
   "execution_count": 89,
   "metadata": {},
   "outputs": [
    {
     "data": {
      "text/html": [
       "<div>\n",
       "<style scoped>\n",
       "    .dataframe tbody tr th:only-of-type {\n",
       "        vertical-align: middle;\n",
       "    }\n",
       "\n",
       "    .dataframe tbody tr th {\n",
       "        vertical-align: top;\n",
       "    }\n",
       "\n",
       "    .dataframe thead th {\n",
       "        text-align: right;\n",
       "    }\n",
       "</style>\n",
       "<table border=\"1\" class=\"dataframe\">\n",
       "  <thead>\n",
       "    <tr style=\"text-align: right;\">\n",
       "      <th></th>\n",
       "      <th>customer_id</th>\n",
       "    </tr>\n",
       "  </thead>\n",
       "  <tbody>\n",
       "    <tr>\n",
       "      <th>3966</th>\n",
       "      <td>1544-JJMYL</td>\n",
       "    </tr>\n",
       "    <tr>\n",
       "      <th>1940</th>\n",
       "      <td>3323-CPBWR</td>\n",
       "    </tr>\n",
       "    <tr>\n",
       "      <th>5226</th>\n",
       "      <td>6598-RFFVI</td>\n",
       "    </tr>\n",
       "    <tr>\n",
       "      <th>4320</th>\n",
       "      <td>7781-EWARA</td>\n",
       "    </tr>\n",
       "    <tr>\n",
       "      <th>714</th>\n",
       "      <td>5759-RCVCB</td>\n",
       "    </tr>\n",
       "    <tr>\n",
       "      <th>...</th>\n",
       "      <td>...</td>\n",
       "    </tr>\n",
       "    <tr>\n",
       "      <th>924</th>\n",
       "      <td>7579-OOPEC</td>\n",
       "    </tr>\n",
       "    <tr>\n",
       "      <th>4517</th>\n",
       "      <td>1265-XTECC</td>\n",
       "    </tr>\n",
       "    <tr>\n",
       "      <th>6234</th>\n",
       "      <td>6257-DTAYD</td>\n",
       "    </tr>\n",
       "    <tr>\n",
       "      <th>3351</th>\n",
       "      <td>0030-FNXPP</td>\n",
       "    </tr>\n",
       "    <tr>\n",
       "      <th>779</th>\n",
       "      <td>6338-AVWCY</td>\n",
       "    </tr>\n",
       "  </tbody>\n",
       "</table>\n",
       "<p>1409 rows × 1 columns</p>\n",
       "</div>"
      ],
      "text/plain": [
       "     customer_id\n",
       "3966  1544-JJMYL\n",
       "1940  3323-CPBWR\n",
       "5226  6598-RFFVI\n",
       "4320  7781-EWARA\n",
       "714   5759-RCVCB\n",
       "...          ...\n",
       "924   7579-OOPEC\n",
       "4517  1265-XTECC\n",
       "6234  6257-DTAYD\n",
       "3351  0030-FNXPP\n",
       "779   6338-AVWCY\n",
       "\n",
       "[1409 rows x 1 columns]"
      ]
     },
     "execution_count": 89,
     "metadata": {},
     "output_type": "execute_result"
    }
   ],
   "source": [
    "test_churn.drop(columns = ['senior_citizen', 'tenure_months', 'paperless_billing','monthly_charges','tenure_years', \n",
    "                           'phone_services', 'e_Check', 'sends_check',\n",
    "                           'has_auto_pay', 'dsl', 'fiber', 'no_internet', 'no_tech_support', 'no_online_security', \n",
    "                           'no_online_backup', 'no_device_protection', 'not_streamer', 'is_single_no_dep',\n",
    "                           'family','month_to_month', 'one_year','two_year', 'total_charges', 'has_partner_no_dep', \n",
    "                           'is_single_with_dep' ], inplace = True)\n",
    "test_churn"
   ]
  },
  {
   "cell_type": "code",
   "execution_count": 90,
   "metadata": {},
   "outputs": [],
   "source": [
    "test_churn['churn_prediction'] = y_pred3\n",
    "#test_churn"
   ]
  },
  {
   "cell_type": "code",
   "execution_count": 91,
   "metadata": {},
   "outputs": [
    {
     "data": {
      "text/html": [
       "<div>\n",
       "<style scoped>\n",
       "    .dataframe tbody tr th:only-of-type {\n",
       "        vertical-align: middle;\n",
       "    }\n",
       "\n",
       "    .dataframe tbody tr th {\n",
       "        vertical-align: top;\n",
       "    }\n",
       "\n",
       "    .dataframe thead th {\n",
       "        text-align: right;\n",
       "    }\n",
       "</style>\n",
       "<table border=\"1\" class=\"dataframe\">\n",
       "  <thead>\n",
       "    <tr style=\"text-align: right;\">\n",
       "      <th></th>\n",
       "      <th>n</th>\n",
       "      <th>y</th>\n",
       "    </tr>\n",
       "  </thead>\n",
       "  <tbody>\n",
       "    <tr>\n",
       "      <th>0</th>\n",
       "      <td>0.951558</td>\n",
       "      <td>0.048442</td>\n",
       "    </tr>\n",
       "    <tr>\n",
       "      <th>1</th>\n",
       "      <td>0.621796</td>\n",
       "      <td>0.378204</td>\n",
       "    </tr>\n",
       "    <tr>\n",
       "      <th>2</th>\n",
       "      <td>0.973325</td>\n",
       "      <td>0.026675</td>\n",
       "    </tr>\n",
       "    <tr>\n",
       "      <th>3</th>\n",
       "      <td>0.932477</td>\n",
       "      <td>0.067523</td>\n",
       "    </tr>\n",
       "    <tr>\n",
       "      <th>4</th>\n",
       "      <td>0.667111</td>\n",
       "      <td>0.332889</td>\n",
       "    </tr>\n",
       "    <tr>\n",
       "      <th>...</th>\n",
       "      <td>...</td>\n",
       "      <td>...</td>\n",
       "    </tr>\n",
       "    <tr>\n",
       "      <th>1404</th>\n",
       "      <td>0.677391</td>\n",
       "      <td>0.322609</td>\n",
       "    </tr>\n",
       "    <tr>\n",
       "      <th>1405</th>\n",
       "      <td>0.811274</td>\n",
       "      <td>0.188726</td>\n",
       "    </tr>\n",
       "    <tr>\n",
       "      <th>1406</th>\n",
       "      <td>0.876503</td>\n",
       "      <td>0.123497</td>\n",
       "    </tr>\n",
       "    <tr>\n",
       "      <th>1407</th>\n",
       "      <td>0.765280</td>\n",
       "      <td>0.234720</td>\n",
       "    </tr>\n",
       "    <tr>\n",
       "      <th>1408</th>\n",
       "      <td>0.582587</td>\n",
       "      <td>0.417413</td>\n",
       "    </tr>\n",
       "  </tbody>\n",
       "</table>\n",
       "<p>1409 rows × 2 columns</p>\n",
       "</div>"
      ],
      "text/plain": [
       "             n         y\n",
       "0     0.951558  0.048442\n",
       "1     0.621796  0.378204\n",
       "2     0.973325  0.026675\n",
       "3     0.932477  0.067523\n",
       "4     0.667111  0.332889\n",
       "...        ...       ...\n",
       "1404  0.677391  0.322609\n",
       "1405  0.811274  0.188726\n",
       "1406  0.876503  0.123497\n",
       "1407  0.765280  0.234720\n",
       "1408  0.582587  0.417413\n",
       "\n",
       "[1409 rows x 2 columns]"
      ]
     },
     "execution_count": 91,
     "metadata": {},
     "output_type": "execute_result"
    }
   ],
   "source": [
    "prob = pd.DataFrame(y_pred3_proba, columns=['n','y'])\n",
    "prob"
   ]
  },
  {
   "cell_type": "code",
   "execution_count": 92,
   "metadata": {},
   "outputs": [
    {
     "data": {
      "text/html": [
       "<div>\n",
       "<style scoped>\n",
       "    .dataframe tbody tr th:only-of-type {\n",
       "        vertical-align: middle;\n",
       "    }\n",
       "\n",
       "    .dataframe tbody tr th {\n",
       "        vertical-align: top;\n",
       "    }\n",
       "\n",
       "    .dataframe thead th {\n",
       "        text-align: right;\n",
       "    }\n",
       "</style>\n",
       "<table border=\"1\" class=\"dataframe\">\n",
       "  <thead>\n",
       "    <tr style=\"text-align: right;\">\n",
       "      <th></th>\n",
       "      <th>customer_id</th>\n",
       "      <th>churn_prediction</th>\n",
       "    </tr>\n",
       "  </thead>\n",
       "  <tbody>\n",
       "    <tr>\n",
       "      <th>3966</th>\n",
       "      <td>1544-JJMYL</td>\n",
       "      <td>0</td>\n",
       "    </tr>\n",
       "    <tr>\n",
       "      <th>1940</th>\n",
       "      <td>3323-CPBWR</td>\n",
       "      <td>0</td>\n",
       "    </tr>\n",
       "    <tr>\n",
       "      <th>5226</th>\n",
       "      <td>6598-RFFVI</td>\n",
       "      <td>0</td>\n",
       "    </tr>\n",
       "    <tr>\n",
       "      <th>4320</th>\n",
       "      <td>7781-EWARA</td>\n",
       "      <td>0</td>\n",
       "    </tr>\n",
       "    <tr>\n",
       "      <th>714</th>\n",
       "      <td>5759-RCVCB</td>\n",
       "      <td>0</td>\n",
       "    </tr>\n",
       "  </tbody>\n",
       "</table>\n",
       "</div>"
      ],
      "text/plain": [
       "     customer_id  churn_prediction\n",
       "3966  1544-JJMYL                 0\n",
       "1940  3323-CPBWR                 0\n",
       "5226  6598-RFFVI                 0\n",
       "4320  7781-EWARA                 0\n",
       "714   5759-RCVCB                 0"
      ]
     },
     "execution_count": 92,
     "metadata": {},
     "output_type": "execute_result"
    }
   ],
   "source": [
    "test_churn.head()"
   ]
  },
  {
   "cell_type": "code",
   "execution_count": 93,
   "metadata": {},
   "outputs": [],
   "source": [
    "# pd.concat([test_churn, prob], axis=1, ignore_index=True)"
   ]
  },
  {
   "cell_type": "code",
   "execution_count": 94,
   "metadata": {},
   "outputs": [
    {
     "data": {
      "text/plain": [
       "((1409, 2), (1409, 2))"
      ]
     },
     "execution_count": 94,
     "metadata": {},
     "output_type": "execute_result"
    }
   ],
   "source": [
    "test_churn.shape, prob.shape"
   ]
  },
  {
   "cell_type": "code",
   "execution_count": 95,
   "metadata": {},
   "outputs": [
    {
     "data": {
      "text/html": [
       "<div>\n",
       "<style scoped>\n",
       "    .dataframe tbody tr th:only-of-type {\n",
       "        vertical-align: middle;\n",
       "    }\n",
       "\n",
       "    .dataframe tbody tr th {\n",
       "        vertical-align: top;\n",
       "    }\n",
       "\n",
       "    .dataframe thead th {\n",
       "        text-align: right;\n",
       "    }\n",
       "</style>\n",
       "<table border=\"1\" class=\"dataframe\">\n",
       "  <thead>\n",
       "    <tr style=\"text-align: right;\">\n",
       "      <th></th>\n",
       "      <th>customer_id</th>\n",
       "      <th>churn_prediction</th>\n",
       "      <th>no</th>\n",
       "      <th>yes</th>\n",
       "    </tr>\n",
       "  </thead>\n",
       "  <tbody>\n",
       "    <tr>\n",
       "      <th>3966</th>\n",
       "      <td>1544-JJMYL</td>\n",
       "      <td>0</td>\n",
       "      <td>0.951558</td>\n",
       "      <td>0.048442</td>\n",
       "    </tr>\n",
       "    <tr>\n",
       "      <th>1940</th>\n",
       "      <td>3323-CPBWR</td>\n",
       "      <td>0</td>\n",
       "      <td>0.621796</td>\n",
       "      <td>0.378204</td>\n",
       "    </tr>\n",
       "    <tr>\n",
       "      <th>5226</th>\n",
       "      <td>6598-RFFVI</td>\n",
       "      <td>0</td>\n",
       "      <td>0.973325</td>\n",
       "      <td>0.026675</td>\n",
       "    </tr>\n",
       "    <tr>\n",
       "      <th>4320</th>\n",
       "      <td>7781-EWARA</td>\n",
       "      <td>0</td>\n",
       "      <td>0.932477</td>\n",
       "      <td>0.067523</td>\n",
       "    </tr>\n",
       "    <tr>\n",
       "      <th>714</th>\n",
       "      <td>5759-RCVCB</td>\n",
       "      <td>0</td>\n",
       "      <td>0.667111</td>\n",
       "      <td>0.332889</td>\n",
       "    </tr>\n",
       "    <tr>\n",
       "      <th>...</th>\n",
       "      <td>...</td>\n",
       "      <td>...</td>\n",
       "      <td>...</td>\n",
       "      <td>...</td>\n",
       "    </tr>\n",
       "    <tr>\n",
       "      <th>924</th>\n",
       "      <td>7579-OOPEC</td>\n",
       "      <td>0</td>\n",
       "      <td>0.677391</td>\n",
       "      <td>0.322609</td>\n",
       "    </tr>\n",
       "    <tr>\n",
       "      <th>4517</th>\n",
       "      <td>1265-XTECC</td>\n",
       "      <td>0</td>\n",
       "      <td>0.811274</td>\n",
       "      <td>0.188726</td>\n",
       "    </tr>\n",
       "    <tr>\n",
       "      <th>6234</th>\n",
       "      <td>6257-DTAYD</td>\n",
       "      <td>0</td>\n",
       "      <td>0.876503</td>\n",
       "      <td>0.123497</td>\n",
       "    </tr>\n",
       "    <tr>\n",
       "      <th>3351</th>\n",
       "      <td>0030-FNXPP</td>\n",
       "      <td>0</td>\n",
       "      <td>0.765280</td>\n",
       "      <td>0.234720</td>\n",
       "    </tr>\n",
       "    <tr>\n",
       "      <th>779</th>\n",
       "      <td>6338-AVWCY</td>\n",
       "      <td>0</td>\n",
       "      <td>0.582587</td>\n",
       "      <td>0.417413</td>\n",
       "    </tr>\n",
       "  </tbody>\n",
       "</table>\n",
       "<p>1409 rows × 4 columns</p>\n",
       "</div>"
      ],
      "text/plain": [
       "     customer_id  churn_prediction        no       yes\n",
       "3966  1544-JJMYL                 0  0.951558  0.048442\n",
       "1940  3323-CPBWR                 0  0.621796  0.378204\n",
       "5226  6598-RFFVI                 0  0.973325  0.026675\n",
       "4320  7781-EWARA                 0  0.932477  0.067523\n",
       "714   5759-RCVCB                 0  0.667111  0.332889\n",
       "...          ...               ...       ...       ...\n",
       "924   7579-OOPEC                 0  0.677391  0.322609\n",
       "4517  1265-XTECC                 0  0.811274  0.188726\n",
       "6234  6257-DTAYD                 0  0.876503  0.123497\n",
       "3351  0030-FNXPP                 0  0.765280  0.234720\n",
       "779   6338-AVWCY                 0  0.582587  0.417413\n",
       "\n",
       "[1409 rows x 4 columns]"
      ]
     },
     "execution_count": 95,
     "metadata": {},
     "output_type": "execute_result"
    }
   ],
   "source": [
    "test_churn['no'] = prob.n.values\n",
    "test_churn['yes'] = prob.y.values\n",
    "test_churn"
   ]
  },
  {
   "cell_type": "code",
   "execution_count": 96,
   "metadata": {},
   "outputs": [],
   "source": [
    "# write test_churn dataframe to .csv file"
   ]
  },
  {
   "cell_type": "code",
   "execution_count": 97,
   "metadata": {},
   "outputs": [],
   "source": [
    "test_churn.to_csv('churn_probability.csv')"
   ]
  },
  {
   "cell_type": "code",
   "execution_count": 98,
   "metadata": {},
   "outputs": [
    {
     "name": "stdout",
     "output_type": "stream",
     "text": [
      "Accuracy of random forest classifier on test set: 0.79\n",
      "Confusion Matrix:\n",
      "[[959  76]\n",
      " [216 158]]\n"
     ]
    }
   ],
   "source": [
    "print('Accuracy of random forest classifier on test set: {:.2f}'\n",
    "     .format(rf3.score(X_test[features], y_test)))\n",
    "print('Confusion Matrix:')\n",
    "print(confusion_matrix(y_test, y_pred3))"
   ]
  },
  {
   "cell_type": "markdown",
   "metadata": {},
   "source": [
    "_______________________________________________________________________________________________________________________"
   ]
  },
  {
   "cell_type": "markdown",
   "metadata": {},
   "source": [
    "### ```Key Findings & Takeaways```\n",
    "\n",
    "**My analysis revealed that the following factors are predictors of customer churn:**\n",
    "- Customer does not receive technical support\n",
    "- Customer does not participate in auto-pay\n",
    "- Customer does not subscribe to streaming services\n",
    "- Customer is on a month-to-month contract\n",
    "- Customer has fiber optic internet\n",
    "\n",
    "**My recommendations to reduce churn include:** \n",
    "- Offering reduced prices on tech support for internet customers.\n",
    "- Offer packages for streaming movies and tv\n",
    "- Encourage customers to participate in some form of automatic payment (bank draft or credit card).\n",
    "- Incentivize 1- and 2-year contracts\n",
    "\n",
    "**With additional time to work on this project, I will:** \n",
    "- Analyze combinations of features that may be driving churn in fiber optic customers.\n",
    "- Run predictions involving packages of services or features\n",
    "- Run additional models, varying the hyperparameters to see if model performance can be improved.\n",
    "- Investigate our pricing structure across various services to identify if our pricing strategy may be suboptimal.\n",
    "\n",
    "**A .csv file containing a prediction of churn for customers is included for your review.**"
   ]
  },
  {
   "cell_type": "code",
   "execution_count": 99,
   "metadata": {},
   "outputs": [],
   "source": [
    "#pd.concat([test_churn, prob], axis=1)"
   ]
  },
  {
   "cell_type": "code",
   "execution_count": null,
   "metadata": {},
   "outputs": [],
   "source": []
  }
 ],
 "metadata": {
  "kernelspec": {
   "display_name": "Python 3",
   "language": "python",
   "name": "python3"
  },
  "language_info": {
   "codemirror_mode": {
    "name": "ipython",
    "version": 3
   },
   "file_extension": ".py",
   "mimetype": "text/x-python",
   "name": "python",
   "nbconvert_exporter": "python",
   "pygments_lexer": "ipython3",
   "version": "3.8.5"
  }
 },
 "nbformat": 4,
 "nbformat_minor": 4
}
